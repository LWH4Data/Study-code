{
  "nbformat": 4,
  "nbformat_minor": 0,
  "metadata": {
    "colab": {
      "provenance": [],
      "authorship_tag": "ABX9TyNIe3dzmu6dyvN4DW5zxY/Y",
      "include_colab_link": true
    },
    "kernelspec": {
      "name": "python3",
      "display_name": "Python 3"
    },
    "language_info": {
      "name": "python"
    }
  },
  "cells": [
    {
      "cell_type": "markdown",
      "metadata": {
        "id": "view-in-github",
        "colab_type": "text"
      },
      "source": [
        "<a href=\"https://colab.research.google.com/github/LWH4Data/Study-code/blob/main/Python_Numpy_Vectors.ipynb\" target=\"_parent\"><img src=\"https://colab.research.google.com/assets/colab-badge.svg\" alt=\"Open In Colab\"/></a>"
      ]
    },
    {
      "cell_type": "markdown",
      "source": [
        "### 1. 1 rank array"
      ],
      "metadata": {
        "id": "W6gNKhF42zRJ"
      }
    },
    {
      "cell_type": "code",
      "execution_count": null,
      "metadata": {
        "id": "3V1ja1SBzlnQ"
      },
      "outputs": [],
      "source": [
        "import numpy as np\n",
        "\n",
        "# 무작위 다섯 개의 수를 추출\n",
        "a = np.random.randn(5)"
      ]
    },
    {
      "cell_type": "code",
      "source": [
        "print(a)"
      ],
      "metadata": {
        "colab": {
          "base_uri": "https://localhost:8080/"
        },
        "id": "ROETjYJUzpt6",
        "outputId": "f09e890a-be2c-49a1-d133-6df873c140cb"
      },
      "execution_count": null,
      "outputs": [
        {
          "output_type": "stream",
          "name": "stdout",
          "text": [
            "[-0.32624035  3.40233875  0.78905115 -0.36888023 -0.02054533]\n"
          ]
        }
      ]
    },
    {
      "cell_type": "code",
      "source": [
        "print(a.shape)"
      ],
      "metadata": {
        "colab": {
          "base_uri": "https://localhost:8080/"
        },
        "id": "mksDQHF8zsSJ",
        "outputId": "a4be8495-d834-4fb8-8b7c-febbc778dc1e"
      },
      "execution_count": null,
      "outputs": [
        {
          "output_type": "stream",
          "name": "stdout",
          "text": [
            "(5,)\n"
          ]
        }
      ]
    },
    {
      "cell_type": "code",
      "source": [
        "# 전치를 하여도 결과는 동일하다 (1 rank array).\n",
        "a_trans = a.T\n",
        "print(a_trans)\n",
        "print(a_trans.shape)\n"
      ],
      "metadata": {
        "colab": {
          "base_uri": "https://localhost:8080/"
        },
        "id": "NS7OM5Cvzzfe",
        "outputId": "f3d10d6e-123c-4db1-e8f0-80663e8e6475"
      },
      "execution_count": null,
      "outputs": [
        {
          "output_type": "stream",
          "name": "stdout",
          "text": [
            "[-0.32624035  3.40233875  0.78905115 -0.36888023 -0.02054533]\n",
            "(5,)\n"
          ]
        }
      ]
    },
    {
      "cell_type": "code",
      "source": [
        "print(np.dot(a, a_trans))"
      ],
      "metadata": {
        "colab": {
          "base_uri": "https://localhost:8080/"
        },
        "id": "6WzjZzL-z3Hw",
        "outputId": "e24a88ce-4d70-412a-8879-74db2066af1c"
      },
      "execution_count": null,
      "outputs": [
        {
          "output_type": "stream",
          "name": "stdout",
          "text": [
            "12.441438167636154\n"
          ]
        }
      ]
    },
    {
      "cell_type": "markdown",
      "source": [
        "---"
      ],
      "metadata": {
        "id": "6snqdF9m3Hoz"
      }
    },
    {
      "cell_type": "markdown",
      "source": [
        "\n",
        "### 2. column vector"
      ],
      "metadata": {
        "id": "rafl2PZS2s4G"
      }
    },
    {
      "cell_type": "code",
      "source": [
        "a = np.random.randn(5, 1)\n",
        "print(a)"
      ],
      "metadata": {
        "colab": {
          "base_uri": "https://localhost:8080/"
        },
        "id": "d48Yyvt6z9OJ",
        "outputId": "b1dc847f-02ce-4402-a5a4-0717fec27369"
      },
      "execution_count": null,
      "outputs": [
        {
          "output_type": "stream",
          "name": "stdout",
          "text": [
            "[[ 0.90814566]\n",
            " [ 0.51969748]\n",
            " [-0.95299717]\n",
            " [ 0.66712388]\n",
            " [ 0.84141075]]\n"
          ]
        }
      ]
    },
    {
      "cell_type": "code",
      "source": [
        "# 전치시 행벡터로 변환된다.\n",
        "print(a.T)"
      ],
      "metadata": {
        "colab": {
          "base_uri": "https://localhost:8080/"
        },
        "id": "03pLlKRd0A4b",
        "outputId": "7702bf09-afc8-43fa-c38b-a59e86c08c51"
      },
      "execution_count": null,
      "outputs": [
        {
          "output_type": "stream",
          "name": "stdout",
          "text": [
            "[[ 0.90814566  0.51969748 -0.95299717  0.66712388  0.84141075]]\n"
          ]
        }
      ]
    },
    {
      "cell_type": "code",
      "source": [
        "# 내적결과 행렬이 출력력된다.\n",
        "print(np.dot(a, a.T))"
      ],
      "metadata": {
        "colab": {
          "base_uri": "https://localhost:8080/"
        },
        "id": "sZ6wCJLH0GPq",
        "outputId": "447ec43c-09f5-4dbd-b44a-8352acf53fb5"
      },
      "execution_count": null,
      "outputs": [
        {
          "output_type": "stream",
          "name": "stdout",
          "text": [
            "[[ 0.82472854  0.47196101 -0.86546025  0.60584565  0.76412352]\n",
            " [ 0.47196101  0.27008547 -0.49527022  0.34670259  0.43727904]\n",
            " [-0.86546025 -0.49527022  0.90820361 -0.63576717 -0.80186207]\n",
            " [ 0.60584565  0.34670259 -0.63576717  0.44505427  0.5613252 ]\n",
            " [ 0.76412352  0.43727904 -0.80186207  0.5613252   0.70797205]]\n"
          ]
        }
      ]
    },
    {
      "cell_type": "markdown",
      "source": [
        "---"
      ],
      "metadata": {
        "id": "QQlYIWVa34SG"
      }
    },
    {
      "cell_type": "markdown",
      "source": [
        "### 3. shape 확인 및 수정"
      ],
      "metadata": {
        "id": "vjvEGPXG4Bsq"
      }
    },
    {
      "cell_type": "code",
      "source": [
        "# assert 함수를 통해 특정 조건을 만족하는지 확인할 수 있다. (필요시 메시지 출려도 가능).\n",
        "assert(a.shape == (5,1))"
      ],
      "metadata": {
        "id": "0x9vYt4o2VDC"
      },
      "execution_count": null,
      "outputs": []
    },
    {
      "cell_type": "code",
      "source": [
        "# reshape()을 통해 수정이 가능하다.\n",
        "a = a.reshape((5,1))"
      ],
      "metadata": {
        "id": "AYhbtPMo2lmP"
      },
      "execution_count": null,
      "outputs": []
    }
  ]
}