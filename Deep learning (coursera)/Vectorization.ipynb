{
  "nbformat": 4,
  "nbformat_minor": 0,
  "metadata": {
    "colab": {
      "provenance": [],
      "authorship_tag": "ABX9TyOmQlwyjP/tfQqG+8W6u0wF",
      "include_colab_link": true
    },
    "kernelspec": {
      "name": "python3",
      "display_name": "Python 3"
    },
    "language_info": {
      "name": "python"
    }
  },
  "cells": [
    {
      "cell_type": "markdown",
      "metadata": {
        "id": "view-in-github",
        "colab_type": "text"
      },
      "source": [
        "<a href=\"https://colab.research.google.com/github/LWH4Data/Study-code/blob/main/Vectorization.ipynb\" target=\"_parent\"><img src=\"https://colab.research.google.com/assets/colab-badge.svg\" alt=\"Open In Colab\"/></a>"
      ]
    },
    {
      "cell_type": "code",
      "execution_count": null,
      "metadata": {
        "colab": {
          "base_uri": "https://localhost:8080/"
        },
        "id": "6fR0FXFrY4Lc",
        "outputId": "0e977373-5aac-409c-f279-b9db1a88d450"
      },
      "outputs": [
        {
          "output_type": "stream",
          "name": "stdout",
          "text": [
            "[1 2 3 4]\n"
          ]
        }
      ],
      "source": [
        "import numpy as np\n",
        "\n",
        "a = np.array([1,2,3,4])\n",
        "print(a)"
      ]
    },
    {
      "cell_type": "code",
      "source": [
        "# 코드가 실행되는데 소요되는 시간을 측정하기 위해 사용되는 module 'time'\n",
        "import time\n",
        "\n",
        "# 표준 정규분포에서 1000000 개의 수를 추출한 뒤(random.rand), a와 b에 각각 초기화\n",
        "a = np.random.rand(1000000)\n",
        "b = np.random.rand(1000000)\n",
        "\n",
        "tic = time.time() # 시간 계산을 위해 tic에 시간을 초기화\n",
        "c=np.dot(a,b) # 내적\n",
        "toc = time.time() # 실행이 끝난 시간 초기화\n",
        "\n",
        "print(c)\n",
        "print(\"Vectorized version:\" + str(1000*(toc-tic)) + \"ms\") # 밀리세컨드로 출력하기 위해 1,000을 곱해준다.\n",
        "\n",
        "# For loop을 통한 구현\n",
        "c = 0\n",
        "tic = time.time()\n",
        "for i in range(1000000):\n",
        "  c += a[i]*b[i]\n",
        "toc = time.time()\n",
        "\n",
        "print(c)\n",
        "print(\"For loop:\" + str(1000*(toc-tic)) + \"ms\")"
      ],
      "metadata": {
        "colab": {
          "base_uri": "https://localhost:8080/"
        },
        "id": "gY89xVS8Y_sZ",
        "outputId": "73515e43-f4e6-4494-bc68-6d3346633aa2"
      },
      "execution_count": null,
      "outputs": [
        {
          "output_type": "stream",
          "name": "stdout",
          "text": [
            "250265.82195999444\n",
            "Vectorized version:1.4553070068359375ms\n",
            "250265.82195999502\n",
            "For loop:555.2723407745361ms\n"
          ]
        }
      ]
    },
    {
      "cell_type": "markdown",
      "source": [
        "NumPy의 np.dot을 통한 내적이 for loop 보다 빨리 수행되는 것을 알 수 있다. 데이터가 커지면 커질수록 이 차이는 더 커진다."
      ],
      "metadata": {
        "id": "D7uAw5TKaZ52"
      }
    }
  ]
}
