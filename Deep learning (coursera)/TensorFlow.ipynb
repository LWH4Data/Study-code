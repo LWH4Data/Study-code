{
  "nbformat": 4,
  "nbformat_minor": 0,
  "metadata": {
    "colab": {
      "provenance": [],
      "authorship_tag": "ABX9TyP7wSMNRgHTaIu7Jel5RR/G",
      "include_colab_link": true
    },
    "kernelspec": {
      "name": "python3",
      "display_name": "Python 3"
    },
    "language_info": {
      "name": "python"
    }
  },
  "cells": [
    {
      "cell_type": "markdown",
      "metadata": {
        "id": "view-in-github",
        "colab_type": "text"
      },
      "source": [
        "<a href=\"https://colab.research.google.com/github/LWH4Data/Study-code/blob/main/TensorFlow.ipynb\" target=\"_parent\"><img src=\"https://colab.research.google.com/assets/colab-badge.svg\" alt=\"Open In Colab\"/></a>"
      ]
    },
    {
      "cell_type": "code",
      "execution_count": null,
      "metadata": {
        "id": "-07peUqgdnrE"
      },
      "outputs": [],
      "source": [
        "import numpy as np\n",
        "import tensorflow as tf"
      ]
    },
    {
      "cell_type": "code",
      "source": [
        "w = tf.Variable(0, dtype=tf.float32)\n",
        "optimizer = tf.keras.optimizers.Adam(0.1) # Optimization 방법으로 Adam을 선택하고 learning rate을 0.1로 설정\n",
        "\n",
        "def train_step():\n",
        "  with tf.GradientTape() as tape: # forward prop 과정을 저장해두고, 알아서 backprop을 수행한다 (편리).\n",
        "    cost = w ** 2 - 10 * w + 25\n",
        "  trainable_variables = [w]\n",
        "  grads = tape.gradient(cost, trainable_variables)\n",
        "  optimizer.apply_gradients(zip(grads, trainable_variables)) # zip()은 여러 iterable 객체를 묶어 tuble 형태로 저장한다.\n",
        "\n",
        "print(w)"
      ],
      "metadata": {
        "colab": {
          "base_uri": "https://localhost:8080/"
        },
        "id": "PNFfo_iWdr-H",
        "outputId": "fc4cbce0-d33a-4066-d525-80f00e86fc6e"
      },
      "execution_count": null,
      "outputs": [
        {
          "output_type": "stream",
          "name": "stdout",
          "text": [
            "<tf.Variable 'Variable:0' shape=() dtype=float32, numpy=0.0>\n"
          ]
        }
      ]
    },
    {
      "cell_type": "code",
      "source": [
        "train_step()\n",
        "print(w)"
      ],
      "metadata": {
        "colab": {
          "base_uri": "https://localhost:8080/"
        },
        "id": "ekSkCECyjPml",
        "outputId": "b4c68bfe-bfb9-4885-caa4-24ae4a0c9eb0"
      },
      "execution_count": null,
      "outputs": [
        {
          "output_type": "stream",
          "name": "stdout",
          "text": [
            "<tf.Variable 'Variable:0' shape=() dtype=float32, numpy=0.09999931>\n"
          ]
        }
      ]
    },
    {
      "cell_type": "code",
      "source": [
        "for i in range(1000):\n",
        "  train_step()\n",
        "print(w)"
      ],
      "metadata": {
        "colab": {
          "base_uri": "https://localhost:8080/"
        },
        "id": "QsuS6iU9jSR6",
        "outputId": "f5702a1a-8a29-4817-f24a-c58416a3cfed"
      },
      "execution_count": null,
      "outputs": [
        {
          "output_type": "stream",
          "name": "stdout",
          "text": [
            "<tf.Variable 'Variable:0' shape=() dtype=float32, numpy=5.000001>\n"
          ]
        }
      ]
    },
    {
      "cell_type": "code",
      "source": [
        "w = tf.Variable(0, dtype=tf.float32)\n",
        "x = np.array([1.0, -10.0, 25.0], dtype=np.float32) # x를 하나의 배열로 받아 적용\n",
        "optimizer = tf.keras.optimizers.Adam(0.1)\n",
        "\n",
        "def cost_fn():\n",
        "  return x[0] * w ** 2 + x[1] * w +x[2]\n",
        "\n",
        "print(w)\n",
        "optimizer.minimize(cost_fn, [w]) # forward prop과 backprop을 수행.\n",
        "print(w) # Update된 w"
      ],
      "metadata": {
        "colab": {
          "base_uri": "https://localhost:8080/"
        },
        "id": "p1yBBLVojX5W",
        "outputId": "f9896087-e3ae-4af7-8905-ec8886730d73"
      },
      "execution_count": null,
      "outputs": [
        {
          "output_type": "stream",
          "name": "stdout",
          "text": [
            "<tf.Variable 'Variable:0' shape=() dtype=float32, numpy=0.0>\n",
            "<tf.Variable 'Variable:0' shape=() dtype=float32, numpy=0.09999931>\n"
          ]
        }
      ]
    }
  ]
}
