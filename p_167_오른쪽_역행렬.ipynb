{
  "nbformat": 4,
  "nbformat_minor": 0,
  "metadata": {
    "colab": {
      "provenance": [],
      "authorship_tag": "ABX9TyNNz+a/3F6e9pg2YmEsX0g1",
      "include_colab_link": true
    },
    "kernelspec": {
      "name": "python3",
      "display_name": "Python 3"
    },
    "language_info": {
      "name": "python"
    }
  },
  "cells": [
    {
      "cell_type": "markdown",
      "metadata": {
        "id": "view-in-github",
        "colab_type": "text"
      },
      "source": [
        "<a href=\"https://colab.research.google.com/github/LWH4Data/Study-code/blob/main/p_167_%EC%98%A4%EB%A5%B8%EC%AA%BD_%EC%97%AD%ED%96%89%EB%A0%AC.ipynb\" target=\"_parent\"><img src=\"https://colab.research.google.com/assets/colab-badge.svg\" alt=\"Open In Colab\"/></a>"
      ]
    },
    {
      "cell_type": "markdown",
      "source": [
        "넓은 행렬 W의 오른쪽 역행렬을 구하는 공식을 도식화하고 코드로 구현한다.\n",
        "> 핵심은 넓은 행렬은 WWt로 구현해야 W가 최대계수일 때 최대계수를 갖는다."
      ],
      "metadata": {
        "id": "4QqhzgCQULBm"
      }
    },
    {
      "cell_type": "code",
      "execution_count": 10,
      "metadata": {
        "colab": {
          "base_uri": "https://localhost:8080/",
          "height": 448
        },
        "id": "O1cor1L8UF41",
        "outputId": "af945579-706f-479c-e16a-a81f3ded7497"
      },
      "outputs": [
        {
          "output_type": "execute_result",
          "data": {
            "text/plain": [
              "<matplotlib.image.AxesImage at 0x7df20fb919f0>"
            ]
          },
          "metadata": {},
          "execution_count": 10
        },
        {
          "output_type": "display_data",
          "data": {
            "text/plain": [
              "<Figure size 640x480 with 1 Axes>"
            ],
            "image/png": "[encoded data removed]"
          },
          "metadata": {}
        }
      ],
      "source": [
        "import numpy as np\n",
        "import matplotlib.pyplot as plt\n",
        "\n",
        "# formula\n",
        "W = np.random.randn(6, 9)\n",
        "WWt = W@W.T\n",
        "WWt_inv = np.linalg.inv(WWt)\n",
        "R = W.T@WWt_inv\n",
        "\n",
        "# Check with plot\n",
        "plt.imshow(W@R, cmap = 'gray')"
      ]
    }
  ]
}