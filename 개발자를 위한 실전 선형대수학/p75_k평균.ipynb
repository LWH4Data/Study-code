{
  "nbformat": 4,
  "nbformat_minor": 0,
  "metadata": {
    "colab": {
      "provenance": [],
      "authorship_tag": "ABX9TyNH3bD9yDwN5VGxMOpnRyEZ",
      "include_colab_link": true
    },
    "kernelspec": {
      "name": "python3",
      "display_name": "Python 3"
    },
    "language_info": {
      "name": "python"
    }
  },
  "cells": [
    {
      "cell_type": "markdown",
      "metadata": {
        "id": "view-in-github",
        "colab_type": "text"
      },
      "source": [
        "<a href=\"https://colab.research.google.com/github/LWH4Data/Study-code/blob/main/p75_k%ED%8F%89%EA%B7%A0.ipynb\" target=\"_parent\"><img src=\"https://colab.research.google.com/assets/colab-badge.svg\" alt=\"Open In Colab\"/></a>"
      ]
    },
    {
      "cell_type": "markdown",
      "source": [
        "# 1 단계\n",
        "- 데이터 공간에서 임의의 k개 중심점(클래스 or 범주)을 초기화한다."
      ],
      "metadata": {
        "id": "37HMXj01vLPm"
      }
    },
    {
      "cell_type": "code",
      "execution_count": 19,
      "metadata": {
        "id": "XeXdnXOuhekq",
        "colab": {
          "base_uri": "https://localhost:8080/",
          "height": 449
        },
        "outputId": "543ec892-5817-450e-bb87-62b820a169d0"
      },
      "outputs": [
        {
          "output_type": "execute_result",
          "data": {
            "text/plain": [
              "<matplotlib.legend.Legend at 0x7900682c9060>"
            ]
          },
          "metadata": {},
          "execution_count": 19
        },
        {
          "output_type": "display_data",
          "data": {
            "text/plain": [
              "<Figure size 640x480 with 1 Axes>"
            ],
            "image/png": "[encoded data removed]"
          },
          "metadata": {}
        }
      ],
      "source": [
        "import numpy as np\n",
        "import matplotlib.pyplot as plt\n",
        "\n",
        "# 실습에서 사용할 데이터(observation)를 생성한다.\n",
        "data = np.random.randn(150, 2)\n",
        "\n",
        "# 군집의 수(k)를 지정한다.\n",
        "k = 3\n",
        "\n",
        "# np.random.choice() 함수는 주어진 범위에서 지정한 수만큼 복원 추출한다.\n",
        "# len(data) = 150이기에 0~149의 범위에서 3개(k)를 추출한 뒤 이를 ridx에 초기화 한다.\n",
        "ridx = np.random.choice(range(len(data)), k, replace = False)\n",
        "\n",
        "# ridx의 shape은 (3, )이기 때문에 (3, 2)로 만들기 위해 data에서 ridx를 index로 하여 추출한 뒤\n",
        "# centroids 변수에 할당한다. centroids.shape()은 (3, 2)가 되며 무작위로 설정한 군집의 중심(k)가 된다.\n",
        "centroids = data[ridx, :] # data 행렬은 특징별 샘플입니다.\n",
        "\n",
        "# 생성한 데이터와 군집 시각화\n",
        "plt.scatter(data[:, 0], data[:, 1], color = 'black', label = 'data')\n",
        "plt.scatter(centroids[:, 0], centroids[:, 1], color = 'red', label = 'centroid')\n",
        "plt.legend()"
      ]
    },
    {
      "cell_type": "markdown",
      "source": [
        "# 2 단계\n",
        "- 각 데이터(observation)와 각 중심점 사이의 유클리드 거리를 계산한다.\n",
        "- 이 부분에서 중심의수(k)와 데이터의 수(N)을 기준으로 이중 for문을 사용해야 한다고 생각할 수 있다.\n",
        ">그러나 벡터와 브로드캐스팅을 이용하면 해당 작업을 간편하게 수행할 수 있다.\n",
        "\n",
        "<br>\n",
        "\n",
        "교재에서는 제곱근을 하지 않는다. 그 이유는 다음과 같다. <br>\n",
        "1. 제곱근을 해도, 하지 않아도 결과에는 차이가 없다. 예를 들어 데이터 a와 중심 A와의 거리가 4, a와 다른 중심 B와의 거리가 9일 때 제곱근을 해도 각 거리는 2와 3이기에 결국 데이터 a는 A에 속하게 된다.\n",
        "> 데이터의 값을 변화하게 되면 각 데이터끼리의 절대적인 차이는 변화하지만 상대적인 차이는 변화하지 않는다."
      ],
      "metadata": {
        "id": "0_Zxf9CfvfzE"
      }
    },
    {
      "cell_type": "code",
      "source": [
        "# 계산할 거리를 입력받을 영배열을 생성한다.\n",
        "# dists.shape = (150, 3)\n",
        "dists = np.zeros((data.shape[0], k))\n",
        "\n",
        "# centroids[ci, :].shape = (1, 2)이고 data.shape() = (150, 2) 이다.\n",
        "# 일반적으로 차원이 다르면 연산이 되지 않지만 파이썬 '브로드캐스팅'연산으로 인해\n",
        "# centroids의 (1, 2) 배열이 모든 data의 (150, 2) 데이터에 반복되어 빼 진다.\n",
        "# **2 연산은 원소별로 수행되기 때문에 신경쓰지 않아도 된다.\n",
        "for ci in range(k):\n",
        "  dists[:, ci] = np.sum((data - centroids[ci, :])**2, axis=1) # 'axis = 1' 은 열방향으로 각 row별로 계산을 수행한다. 즉, 제곱합\n",
        "\n",
        "# 결과를 확인하면 각 150 개의 데이터(observation)들 마다 3 개의 중심과 과의 거리를 갖기때문에\n",
        "# dists.shape() = (150, 3)이 된다.\n",
        "print('dists의 shape은 :', np.shape(dists), '\\n', 'dists 값은 : ', '\\n', dists)"
      ],
      "metadata": {
        "colab": {
          "base_uri": "https://localhost:8080/"
        },
        "id": "iAn9EtERv8Zh",
        "outputId": "4ef68c13-6252-4796-98f9-333e30f779ba"
      },
      "execution_count": 30,
      "outputs": [
        {
          "output_type": "stream",
          "name": "stdout",
          "text": [
            "dists의 shape은 : (150, 3) \n",
            " dists 값은 :  \n",
            " [[2.77822314e+00 3.57481424e+00 2.83803545e+00]\n",
            " [1.04516238e+01 1.91138902e-01 1.74676681e-03]\n",
            " [6.79063860e-01 1.58195214e+01 1.44883437e+01]\n",
            " [3.97226330e+00 6.79582468e+00 5.22334235e+00]\n",
            " [1.19018311e+00 6.92881342e+00 6.97465164e+00]\n",
            " [5.08442017e-01 7.35906042e+00 7.00147838e+00]\n",
            " [4.03204963e+00 1.89450170e+00 1.78991880e+00]\n",
            " [2.57290451e+00 3.62438997e+00 3.67706230e+00]\n",
            " [4.85339780e+00 2.58178247e+00 1.72346045e+00]\n",
            " [4.48593980e+00 1.65007735e+00 1.32957927e+00]\n",
            " [3.43108371e+00 5.66060845e+00 6.27732291e+00]\n",
            " [4.89107158e-01 1.39757355e+01 1.26952214e+01]\n",
            " [1.30832765e+01 3.82901365e+00 2.41685167e+00]\n",
            " [9.53171073e+00 2.88809132e+00 4.06994350e+00]\n",
            " [8.41411091e+00 2.40346755e+00 3.39227756e+00]\n",
            " [6.52878806e+00 1.31968604e+00 7.11496651e-01]\n",
            " [4.63992644e+00 6.02793320e+00 6.91192897e+00]\n",
            " [3.30037814e-01 1.49957812e+01 1.39152085e+01]\n",
            " [7.56683655e+00 1.66448978e+00 8.43775270e-01]\n",
            " [1.62778407e+00 6.91611092e+00 5.74197868e+00]\n",
            " [1.17366963e+01 9.76457855e+00 7.40101530e+00]\n",
            " [6.74118237e+00 9.35859190e+00 1.07257032e+01]\n",
            " [1.32417540e+00 5.35443318e+00 4.64352122e+00]\n",
            " [3.81714011e+00 2.63561317e+00 1.95279910e+00]\n",
            " [8.79654656e+00 2.37041541e+00 1.29771610e+00]\n",
            " [2.75147162e+00 9.24533033e+00 9.87684474e+00]\n",
            " [4.26552800e+00 4.18317266e+00 3.00486660e+00]\n",
            " [5.03628102e+00 4.09299368e+00 4.86500576e+00]\n",
            " [7.67103280e+00 4.60982436e-01 2.53217541e-01]\n",
            " [4.57322124e+00 1.78727946e+00 1.31229918e+00]\n",
            " [7.79909271e+00 2.22191073e+00 3.10621158e+00]\n",
            " [1.70437983e+00 5.79011864e+00 4.79461573e+00]\n",
            " [5.96761885e+00 2.42792841e+00 3.09394661e+00]\n",
            " [7.18881087e+00 1.46339805e+00 2.08544191e+00]\n",
            " [1.35293663e+01 9.17495393e-01 4.02075979e-01]\n",
            " [3.06040006e+00 2.75106809e+00 2.31158105e+00]\n",
            " [2.79157879e+00 4.20954887e+00 3.27838659e+00]\n",
            " [2.97834584e+00 3.31073918e+00 2.60634541e+00]\n",
            " [7.57931161e+00 4.14666012e-01 5.29975041e-01]\n",
            " [3.63992137e+00 3.32811946e+00 2.45124250e+00]\n",
            " [4.91985319e+00 7.06002899e+00 5.35315268e+00]\n",
            " [1.49211179e+00 5.57635026e+00 5.58225537e+00]\n",
            " [6.21387826e+00 1.02664475e+00 6.25326878e-01]\n",
            " [8.98054636e+00 2.04519071e-01 9.14451274e-02]\n",
            " [1.25818485e+00 7.82783783e+00 6.63150127e+00]\n",
            " [4.58193875e+00 2.38875180e+00 1.63647899e+00]\n",
            " [8.46381994e-01 9.62336224e+00 9.65734599e+00]\n",
            " [1.32832112e+01 2.72260312e-01 1.41686040e-01]\n",
            " [1.42787031e+01 9.27010125e-01 4.57541978e-01]\n",
            " [6.02077516e+00 1.65786640e+00 2.13888876e+00]\n",
            " [8.27256263e-01 8.91891887e+00 7.73948128e+00]\n",
            " [7.40287856e+00 6.21648717e+00 4.45306797e+00]\n",
            " [7.90377188e+00 1.86592612e+00 2.68709633e+00]\n",
            " [1.95258521e+00 3.99273182e+00 3.77637984e+00]\n",
            " [5.31428839e+00 4.53295382e+00 3.17770092e+00]\n",
            " [3.02578650e+00 4.36265077e+00 4.73282820e+00]\n",
            " [3.00210844e+00 9.93676135e+00 8.15464647e+00]\n",
            " [4.55139791e+00 7.66134489e+00 8.62007081e+00]\n",
            " [3.51697314e+00 6.42296935e+00 4.95970394e+00]\n",
            " [1.40327085e+00 5.59691359e+00 4.76369983e+00]\n",
            " [9.11474096e+00 2.05468045e+00 1.06127460e+00]\n",
            " [1.21941924e+01 2.46430655e+00 3.76822216e+00]\n",
            " [2.69556350e+01 3.30768973e+00 4.05864318e+00]\n",
            " [4.21754000e+00 2.36663203e+00 1.69588790e+00]\n",
            " [6.34562221e-01 8.13202870e+00 7.99383317e+00]\n",
            " [4.83835992e+00 2.00969199e+01 2.08807070e+01]\n",
            " [1.32421372e+01 9.34337827e-02 4.54478177e-01]\n",
            " [4.43248196e+00 2.14759830e+00 2.40431329e+00]\n",
            " [1.84880278e+00 4.16669742e+00 3.95739006e+00]\n",
            " [3.73831153e+00 2.09847913e+00 1.96077831e+00]\n",
            " [4.46640179e+00 1.63597575e+00 1.59407549e+00]\n",
            " [8.12984074e+00 3.54987488e-01 1.82349190e-01]\n",
            " [6.06866865e+00 1.14937256e+00 6.96307575e-01]\n",
            " [1.74933962e+00 8.96030769e+00 7.50343521e+00]\n",
            " [5.28258201e+00 2.80282807e+00 3.42220671e+00]\n",
            " [3.89536301e+00 2.28215902e+00 1.74156778e+00]\n",
            " [6.38284356e+00 1.10720960e+00 1.45079512e+00]\n",
            " [9.60202325e+00 1.47850711e+00 2.38296809e+00]\n",
            " [2.25721014e+00 8.71758042e+00 7.17796317e+00]\n",
            " [7.11384953e+00 5.71882339e+00 4.04483190e+00]\n",
            " [2.55217029e+00 3.49886641e+00 3.49430187e+00]\n",
            " [5.17083246e+00 3.58025606e+00 2.42903166e+00]\n",
            " [7.49774625e+00 4.09989884e-01 4.42702875e-01]\n",
            " [2.09176772e+00 4.82834586e+00 4.96648643e+00]\n",
            " [1.02273844e+01 7.04859379e-01 1.85562808e-01]\n",
            " [2.61306996e+00 5.70561616e+00 4.50052436e+00]\n",
            " [7.52256155e+00 4.18761468e+00 2.75553406e+00]\n",
            " [9.82647930e+00 4.22420730e+00 5.61444631e+00]\n",
            " [1.62457359e+00 6.52628436e+00 5.41630389e+00]\n",
            " [1.59090067e+00 5.23558155e+00 4.41796002e+00]\n",
            " [9.92647441e+00 1.85640996e+00 2.87910066e+00]\n",
            " [6.35402607e+00 1.27762162e+00 1.69065674e+00]\n",
            " [1.89805374e+00 4.81491133e+00 3.99117873e+00]\n",
            " [1.27004511e+01 4.69803615e-01 1.19158133e+00]\n",
            " [1.71310733e+00 5.70682929e+00 4.72615548e+00]\n",
            " [6.01764391e+00 2.51072112e+00 3.20178754e+00]\n",
            " [1.07508276e+01 2.36341713e+00 1.27403150e+00]\n",
            " [7.96820913e+00 3.45822631e+00 4.56393826e+00]\n",
            " [1.14030521e+01 0.00000000e+00 1.67167061e-01]\n",
            " [1.06894304e+01 1.67167061e-01 0.00000000e+00]\n",
            " [1.17584442e+00 7.36507126e+00 7.44296945e+00]\n",
            " [3.37393861e+00 3.29920534e+00 2.48875295e+00]\n",
            " [1.09945654e+01 3.10326957e+00 1.83038112e+00]\n",
            " [2.09853753e+00 3.71905842e+00 3.36661058e+00]\n",
            " [3.66643188e+00 3.03591268e+00 2.24359548e+00]\n",
            " [3.11473427e+00 2.68228964e+00 2.26384673e+00]\n",
            " [8.23338840e+00 4.05978785e+00 2.62479322e+00]\n",
            " [0.00000000e+00 1.14030521e+01 1.06894304e+01]\n",
            " [1.88236614e+00 9.75292659e+00 1.01587349e+01]\n",
            " [8.19849686e-01 6.65699619e+00 6.44899821e+00]\n",
            " [8.87097019e+00 3.04892492e+00 1.80843805e+00]\n",
            " [1.55221253e+00 5.56569135e+00 4.67567269e+00]\n",
            " [2.96345974e+00 3.99397696e+00 3.07829983e+00]\n",
            " [9.08221661e+00 2.15877140e-01 7.31156309e-02]\n",
            " [1.23202983e+01 3.46508417e-02 1.33168138e-01]\n",
            " [2.78966775e+00 3.69477031e+00 3.86022684e+00]\n",
            " [4.96154686e+00 3.07924424e+00 3.68856831e+00]\n",
            " [1.06472007e+00 5.99551648e+00 5.23540065e+00]\n",
            " [4.50113907e+00 1.05545303e+01 1.15728621e+01]\n",
            " [3.47438526e+00 4.40754853e+00 4.90037118e+00]\n",
            " [4.11947289e+00 4.15182489e+00 4.75583165e+00]\n",
            " [1.47922642e+00 4.84045073e+00 4.62942192e+00]\n",
            " [9.78503516e-01 6.20981617e+00 5.44105844e+00]\n",
            " [4.34655275e+00 3.93214724e+00 2.79645499e+00]\n",
            " [4.84044228e+00 4.29596026e+00 3.03003083e+00]\n",
            " [1.10186728e+00 6.76713238e+00 6.75290606e+00]\n",
            " [7.55890438e+00 7.12063964e-01 3.10419419e-01]\n",
            " [1.20731197e+00 9.51591543e+00 8.14781449e+00]\n",
            " [2.28995898e+01 4.04192274e+00 5.79927548e+00]\n",
            " [6.80660985e+00 5.43805192e+00 6.61064518e+00]\n",
            " [1.66965012e-01 9.13868142e+00 8.66876638e+00]\n",
            " [1.39023046e+00 5.22417455e+00 4.51899177e+00]\n",
            " [8.95297479e+00 1.58856606e+00 7.39894441e-01]\n",
            " [1.00446373e+01 2.92473330e+00 1.69558003e+00]\n",
            " [3.54917347e+00 2.25914903e+00 1.93495329e+00]\n",
            " [7.28019309e-01 6.78257379e+00 6.52163692e+00]\n",
            " [5.52038073e+00 7.27434019e+00 8.37895281e+00]\n",
            " [8.55167136e+00 3.31346579e+00 4.46308173e+00]\n",
            " [3.44607722e+00 7.17754824e+00 7.89811836e+00]\n",
            " [5.63563972e+00 1.67693562e+00 1.02985034e+00]\n",
            " [1.87981147e+00 8.02214317e+00 8.38613441e+00]\n",
            " [5.37227509e+00 2.98880151e+00 1.95680201e+00]\n",
            " [2.06427186e+00 4.80241436e+00 3.92224970e+00]\n",
            " [8.01583767e+00 2.22398958e+00 1.21465929e+00]\n",
            " [5.20282554e+00 4.47949589e+00 5.32443908e+00]\n",
            " [7.22418353e-01 9.94734847e+00 9.92730323e+00]\n",
            " [7.47806226e-01 7.81878447e+00 6.82299214e+00]\n",
            " [5.65085842e+00 3.07180436e+00 1.99280321e+00]\n",
            " [3.89059711e+00 2.38074046e+00 1.79018546e+00]\n",
            " [1.47261589e+00 6.54438336e+00 5.47807769e+00]]\n"
          ]
        }
      ]
    },
    {
      "cell_type": "markdown",
      "source": [
        "# 3 단계\n",
        "- 각 데이터(observation)를 최소 거리의 군집에 할당.\n",
        "- np.min()은 최솟값을 반환한다. 반면 np.argmin()은 최솟값의 '인덱스'를 반환한다.\n",
        "\n"
      ],
      "metadata": {
        "id": "6bqdJ2lgyxQT"
      }
    },
    {
      "cell_type": "code",
      "source": [
        "# axis=1, 즉 각 row 별로 최소의 거리를 갖는 값의 인덱스를 뽑아 groupidx에 초기화한다.\n",
        "# 따라서 index를 통해 각 군집에 할당.\n",
        "groupidx = np.argmin(dists, axis = 1)"
      ],
      "metadata": {
        "id": "giGVvCeV1jmL"
      },
      "execution_count": 31,
      "outputs": []
    },
    {
      "cell_type": "markdown",
      "source": [
        "# 4 단계\n",
        "- 각 클래스 내의 모든 데이터 점의 평균을 계산하여 다시 중심을 설장한다."
      ],
      "metadata": {
        "id": "_UG86Vpm16W5"
      }
    },
    {
      "cell_type": "code",
      "source": [
        "# groupidx를 통해 군집별로 평균을 구하여 centroids를 업데이트 한다.\n",
        "for ki in range(k):\n",
        "  centroids[ki, :] = [np.mean(data[groupidx==ki, 0]),\n",
        "                      np.mean(data[groupidx==ki, 1])]\n",
        "\n",
        "# 새롭게 업데이트된 중심 출력.\n",
        "print(centroids)"
      ],
      "metadata": {
        "colab": {
          "base_uri": "https://localhost:8080/"
        },
        "id": "XmP_W0Dv2D1m",
        "outputId": "dd816505-b80c-4b5f-9e76-c0db5f752d3e"
      },
      "execution_count": 34,
      "outputs": [
        {
          "output_type": "stream",
          "name": "stdout",
          "text": [
            "[[ 0.70333927  0.54953531]\n",
            " [-1.28086313  0.53265054]\n",
            " [-0.11912174 -0.9293523 ]]\n"
          ]
        }
      ]
    },
    {
      "cell_type": "markdown",
      "source": [
        "# 5 단계\n",
        "- 최적의 군집이 형성될 때 까지 반복한다(교재에서는 3회).\n",
        "\n",
        "<br>\n",
        "\n",
        "1 단게의 시각화와 비교하면 이동된 군집의 중심(centroids)는 더 군집의 중심에 가깝다.\n",
        "\n"
      ],
      "metadata": {
        "id": "iKypPxwh2rZf"
      }
    },
    {
      "cell_type": "code",
      "source": [
        "plt.scatter(centroids[:, 0], centroids[:, 1], color = 'red', label = 'New centroids')\n",
        "plt.scatter(data[:, 0], data[:, 1], color = 'black', label = 'data')\n",
        "plt.legend()"
      ],
      "metadata": {
        "colab": {
          "base_uri": "https://localhost:8080/",
          "height": 449
        },
        "id": "Ct_LTfqp3Ke9",
        "outputId": "68e201d5-1873-44a4-8fdd-cbb1df075540"
      },
      "execution_count": 45,
      "outputs": [
        {
          "output_type": "execute_result",
          "data": {
            "text/plain": [
              "<matplotlib.legend.Legend at 0x790067f54580>"
            ]
          },
          "metadata": {},
          "execution_count": 45
        },
        {
          "output_type": "display_data",
          "data": {
            "text/plain": [
              "<Figure size 640x480 with 1 Axes>"
            ],
            "image/png": "[encoded data removed]"
          },
          "metadata": {}
        }
      ]
    }
  ]
}
