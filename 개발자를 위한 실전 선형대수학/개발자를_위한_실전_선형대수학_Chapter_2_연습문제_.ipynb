{
  "nbformat": 4,
  "nbformat_minor": 0,
  "metadata": {
    "colab": {
      "provenance": [],
      "authorship_tag": "ABX9TyOOg8fStGyilp7SYi2PK6tY",
      "include_colab_link": true
    },
    "kernelspec": {
      "name": "python3",
      "display_name": "Python 3"
    },
    "language_info": {
      "name": "python"
    }
  },
  "cells": [
    {
      "cell_type": "markdown",
      "metadata": {
        "id": "view-in-github",
        "colab_type": "text"
      },
      "source": [
        "<a href=\"https://colab.research.google.com/github/LWH4Data/Study-code/blob/main/%EA%B0%9C%EB%B0%9C%EC%9E%90%EB%A5%BC_%EC%9C%84%ED%95%9C_%EC%8B%A4%EC%A0%84_%EC%84%A0%ED%98%95%EB%8C%80%EC%88%98%ED%95%99_Chapter_2_%EC%97%B0%EC%8A%B5%EB%AC%B8%EC%A0%9C_.ipynb\" target=\"_parent\"><img src=\"https://colab.research.google.com/assets/colab-badge.svg\" alt=\"Open In Colab\"/></a>"
      ]
    },
    {
      "cell_type": "markdown",
      "source": [
        "## 연습 문제 1 : 직접 해보기\n",
        "1.   55p를 참고하여 선형 가중 결합에 대한 코드를 다시 구현 해볼것.\n",
        "2.   스칼라 리스트와 벡터 리스트 총 두 개의 리스트를 생성할 것.\n",
        "3.   for 루프를 사용하여 선형 가중 결합 연산\n",
        "4.   np.zeros()를 통해 출력 벡터 초기화 + 이전과 같은 결과가 나오는지 확인할 것."
      ],
      "metadata": {
        "id": "-5yhczU9HNL_"
      }
    },
    {
      "cell_type": "code",
      "execution_count": null,
      "metadata": {
        "colab": {
          "base_uri": "https://localhost:8080/"
        },
        "id": "rilcwzQkG9EU",
        "outputId": "108f692d-fa9d-44f3-8e8b-1cfabb3a4147"
      },
      "outputs": [
        {
          "output_type": "stream",
          "name": "stdout",
          "text": [
            "[[13 28 43]]\n"
          ]
        }
      ],
      "source": [
        "import numpy as np\n",
        "\n",
        "# scalar vector 's' & vector list 'v'\n",
        "s = [1, 2, 3]\n",
        "v = np.array([[2, 4, 6], [1, 3, 5], [3, 6, 9]])\n",
        "\n",
        "# for loop for linear weighted combination\n",
        "sum = 0 # initialization\n",
        "for i in np.arange(0, len(s)):\n",
        "  sum += s[i]*v[[i]]\n",
        "\n",
        "print(sum)"
      ]
    },
    {
      "cell_type": "code",
      "source": [
        "# initialize the variable 'sum' with numpy np.zero() function\n",
        "sum = np.zeros((1, 3))\n",
        "\n",
        "# recompute the linear weighted combination.\n",
        "for i in np.arange(0, len(s)):\n",
        "  sum += s[i]*v[[i]]\n",
        "\n",
        "print(sum)\n"
      ],
      "metadata": {
        "colab": {
          "base_uri": "https://localhost:8080/"
        },
        "id": "jf1Y9NurJW7P",
        "outputId": "5398aae1-bda5-4a5a-9b1a-59e75e1d94cb"
      },
      "execution_count": null,
      "outputs": [
        {
          "output_type": "stream",
          "name": "stdout",
          "text": [
            "[[13. 28. 43.]]\n"
          ]
        }
      ]
    },
    {
      "cell_type": "markdown",
      "source": [
        "## 연습 문제 1 : 교재 풀이\n",
        "1. zip() 함수는?\n",
        "iterable 객체를 인자로 받아 각 객체가 담고 있는 원소를 튜플 형태로 차례로 접근할 수 있는 반복자(iterator)를 생성한다. 자세한 설명은 아래 링크 참고.\n",
        "\n",
        "> zip() 함수는? https://www.daleseo.com/python-zip/"
      ],
      "metadata": {
        "id": "yy4p4YC3K8tC"
      }
    },
    {
      "cell_type": "code",
      "source": [
        "# code of p55\n",
        "l1 = 1\n",
        "l2 = 2\n",
        "l3 = -3\n",
        "v1 = np.array([4, 5, 1])\n",
        "v2 = np.array([-4, 0, -4])\n",
        "v3 = np.array([1, 3, 2])\n",
        "l1*v1 + l2*v2 + l3*v3"
      ],
      "metadata": {
        "colab": {
          "base_uri": "https://localhost:8080/"
        },
        "id": "4P3n14NhO0oH",
        "outputId": "c26d271f-c0b6-40d9-e4a9-ca990bcd3957"
      },
      "execution_count": null,
      "outputs": [
        {
          "output_type": "execute_result",
          "data": {
            "text/plain": [
              "array([ -7,  -4, -13])"
            ]
          },
          "metadata": {},
          "execution_count": 25
        }
      ]
    },
    {
      "cell_type": "code",
      "source": [
        "# orianized into lists\n",
        "scalars = [ l1, l2, l3 ]\n",
        "vectors = [ v1, v2, v3 ]\n",
        "\n",
        "# initialize the linear combination\n",
        "linCombo = np.zeros(len(v1))\n",
        "\n",
        "# implement linear weighted combination using zip()\n",
        "for s, v in zip(scalars, vectors):\n",
        "  linCombo += s*v\n",
        "\n",
        "# confirm it's the same answer as above\n",
        "linCombo"
      ],
      "metadata": {
        "colab": {
          "base_uri": "https://localhost:8080/"
        },
        "id": "sK9LwjPqK_NV",
        "outputId": "1d62a89b-ad7c-445b-b579-aa4667caca06"
      },
      "execution_count": null,
      "outputs": [
        {
          "output_type": "execute_result",
          "data": {
            "text/plain": [
              "array([ -7.,  -4., -13.])"
            ]
          },
          "metadata": {},
          "execution_count": 27
        }
      ]
    },
    {
      "cell_type": "markdown",
      "source": [
        "---"
      ],
      "metadata": {
        "id": "NDx7U6gKe7gt"
      }
    },
    {
      "cell_type": "markdown",
      "source": [
        "## 연습 문제 2 : 직접 해보기\n",
        "\n",
        "1.   1번 풀이를 기준으로 벡터의 차원을 R^3에서 R^4로 늘려본다.\n",
        "2.   반대로 스칼라가 벡터보다 더 많으면 어떻게 되는지 확인한다.\n",
        "\n",
        "문제의 의도를 잘 모르겠다. 우선 나의 코드는 스칼라리스트를 기준으로 for loop가 되기에 벡터의 수가 더 많다면 에러가 날 것이다.\n",
        "<br>\n",
        "<br>\n",
        "반대로 교재의 풀이대로라면 zip() 함수는 더 작은 수에 맞추어 진행을 하기에 코드가 실행이 되지만 더 작은 수의 벡터 혹은 스칼라에 맞추어 출력이 된다.\n",
        "\n"
      ],
      "metadata": {
        "id": "m4Wm9tU-RmdJ"
      }
    },
    {
      "cell_type": "markdown",
      "source": [
        "## 연습 문제 2 : 교재 풀이\n",
        "풀이가 내 생각과 정확히 일치하였다. 아마도 zip() 함수에 대해 학습을 하고 그 치이를 알고 있는지 확인하는 문제라고 생각된다."
      ],
      "metadata": {
        "id": "biSAIaGCUBMs"
      }
    },
    {
      "cell_type": "code",
      "source": [
        "# Whether it works or thorws an error depends on how you set up the code.\n",
        "# Using zip() as above works, because zip() will use only the minimum-matching items.\n",
        "# Re-writing the code using indexing will cause error, as in the code below.\n",
        "\n",
        "# make the scalars longer\n",
        "scalars = [ l1, l2, l3, 5 ]\n",
        "vectors = [ v1, v2, v3 ]\n",
        "\n",
        "linCombo = np.zeros(len(v1))\n",
        "\n",
        "for i in range(len(scalars)):\n",
        "  linCombo += scalars[i]*vectors[i]"
      ],
      "metadata": {
        "colab": {
          "base_uri": "https://localhost:8080/",
          "height": 186
        },
        "id": "41gD2j0sThfB",
        "outputId": "643cbbe0-0423-455b-df7c-995d98de6e77"
      },
      "execution_count": null,
      "outputs": [
        {
          "output_type": "error",
          "ename": "IndexError",
          "evalue": "list index out of range",
          "traceback": [
            "\u001b[0;31m---------------------------------------------------------------------------\u001b[0m",
            "\u001b[0;31mIndexError\u001b[0m                                Traceback (most recent call last)",
            "\u001b[0;32m<ipython-input-28-9c6921ae010b>\u001b[0m in \u001b[0;36m<cell line: 11>\u001b[0;34m()\u001b[0m\n\u001b[1;32m     10\u001b[0m \u001b[0;34m\u001b[0m\u001b[0m\n\u001b[1;32m     11\u001b[0m \u001b[0;32mfor\u001b[0m \u001b[0mi\u001b[0m \u001b[0;32min\u001b[0m \u001b[0mrange\u001b[0m\u001b[0;34m(\u001b[0m\u001b[0mlen\u001b[0m\u001b[0;34m(\u001b[0m\u001b[0mscalars\u001b[0m\u001b[0;34m)\u001b[0m\u001b[0;34m)\u001b[0m\u001b[0;34m:\u001b[0m\u001b[0;34m\u001b[0m\u001b[0;34m\u001b[0m\u001b[0m\n\u001b[0;32m---> 12\u001b[0;31m   \u001b[0mlinCombo\u001b[0m \u001b[0;34m+=\u001b[0m \u001b[0mscalars\u001b[0m\u001b[0;34m[\u001b[0m\u001b[0mi\u001b[0m\u001b[0;34m]\u001b[0m\u001b[0;34m*\u001b[0m\u001b[0mvectors\u001b[0m\u001b[0;34m[\u001b[0m\u001b[0mi\u001b[0m\u001b[0;34m]\u001b[0m\u001b[0;34m\u001b[0m\u001b[0;34m\u001b[0m\u001b[0m\n\u001b[0m",
            "\u001b[0;31mIndexError\u001b[0m: list index out of range"
          ]
        }
      ]
    },
    {
      "cell_type": "markdown",
      "source": [
        "---"
      ],
      "metadata": {
        "id": "MxOyL-uLe-GE"
      }
    },
    {
      "cell_type": "markdown",
      "source": [
        "## 연습 문제 3 : 직접 해보기\n",
        "1.   부분공간에 무작위로 점을 찍고 이를 통해 부분공간이 벡터들이 생성하는 모든 선형 가중 결합으로 만들어짐을 주장할 수 있다.\n",
        "2.   [1, 3] 하나의 벡터를 갖는 기저 벡터 집합 생성.\n",
        "3.   -4~4사이의 균일한 분포로 100개의 무작위 숫자 추출, 기저벡터에 곱하여 100개의 점 생성 및 그리기.\n",
        "4.   3 차원의 벡터 집합에 [3, 5, 1]과 [0, 2, 2] 두 벡터를 기저 벡터 집합으로 생성.\n",
        "5.   위의 기저 벡터에 곱할 스칼라(가중치)를 각각 100개씩 총 200개 생성.\n",
        "6.   4번과 5번을 이용하여 선형 가중 결합(linear weighted combination) 시행.\n",
        "7.   교재의 plotly 라이브러리를 사용하는 것을 추천(축을 끌어 확대 기능 있음). 이를 활용하여 기저 벡터로 형성된 부분공간(subspace)를 시각화.\n",
        "\n"
      ],
      "metadata": {
        "id": "A5ANUrlFUwIn"
      }
    },
    {
      "cell_type": "code",
      "source": [
        "import numpy as np\n",
        "import matplotlib.pyplot as plt # For 2 dimensional plot\n",
        "import plotly.graph_objects as go # For 3 dimensional plot\n",
        "\n",
        "# Make vector v1\n",
        "v1 = np.array([1, 3])\n",
        "\n",
        "# Extract scalars from a normal distribution.\n",
        "s1 = np.random.uniform(-4, 4, 100)\n",
        "\n",
        "# Multipy v1 * s1\n",
        "m1 = np.zeros((100, 2))\n",
        "for i in range(1, len(s1)):\n",
        "  m1[i-1] = s1[i-1]*v1\n",
        "\n",
        "# plot\n",
        "plt.scatter(m1[:, 0], m1[:, 1], color = 'orange', s = 15)\n",
        "plt.xlim(-4, 4)\n",
        "plt.ylim(-4, 4)\n",
        "plt.grid(color = 'gray', linestyle = '--')"
      ],
      "metadata": {
        "id": "1ZETAU6LSjsi",
        "colab": {
          "base_uri": "https://localhost:8080/",
          "height": 435
        },
        "outputId": "065747a2-92f3-4bad-80ed-ce1a01ac4566"
      },
      "execution_count": 225,
      "outputs": [
        {
          "output_type": "display_data",
          "data": {
            "text/plain": [
              "<Figure size 640x480 with 1 Axes>"
            ],
            "image/png": "[encoded data removed]"
          },
          "metadata": {}
        }
      ]
    },
    {
      "cell_type": "markdown",
      "source": [
        "## 연습 문제 3 : 교재 풀이\n",
        "아쉽게도 교재 풀이는 결과가 출력되지 않는다.\n",
        "\n",
        "1.   교재의 풀이가 조금 더 깔끔하다 생각된다.\n",
        "*   최대한 소프트 코딩을 사용하는 점\n",
        "*   난수 생성에서도 size인자를 통해 튜플로 난수를 설정하는 점.\n",
        "\n",
        "<br>\n",
        "대표적으로 위의 두 가지로 인해 코드가 더 깔끔해 보이는 듯하다. 아직 tuple의 활용과 변수로 소프트 코딩을 하는 등 cs적으로 부족한 부분이 보이는데 인지하도록 노력해야겠다.\n",
        "\n",
        "\n",
        "\n"
      ],
      "metadata": {
        "id": "XPU1qWS_ij5Q"
      }
    },
    {
      "cell_type": "code",
      "source": [
        "# Make 3-dimension vector v3\n",
        "v3 = np.array([[3, 5, 1], [0, 2, 2]])\n",
        "\n",
        "# Make 200 scalars\n",
        "sx = np.random.uniform(-4, 4, 100)\n",
        "sy = np.random.uniform(-4, 4, 100)\n",
        "\n",
        "# Muliply v3 and sx, sy\n",
        "m2 = np.zeros((100, 3))\n",
        "m3 = np.zeros((100, 3))\n",
        "\n",
        "# first vector multiply\n",
        "for i in range(len(sx)):\n",
        "  m2[i] = sx[i]*v3[0]\n",
        "\n",
        "# second vector multiply\n",
        "for i in range(len(sy)):\n",
        "  m3[i] = sy[i]*v3[1]\n",
        "\n",
        "# linear weighted combination\n",
        "m = m2 + m3\n",
        "\n",
        "# plot\n",
        "fig = go.Figure( data = [go.Scatter3d(\n",
        "    x = m[:, 0], y = m[:, 1], z = m[:, 2],\n",
        "    mode = 'markers',\n",
        "    marker = dict(size = 1)\n",
        ")])\n",
        "fig.show()"
      ],
      "metadata": {
        "colab": {
          "base_uri": "https://localhost:8080/",
          "height": 542
        },
        "id": "ML8FXKkpGyF7",
        "outputId": "3a3626b1-9988-4d6f-8401-a79e9a862ee1"
      },
      "execution_count": 249,
      "outputs": [
        {
          "output_type": "display_data",
          "data": {
            "text/html": [
              "<html>\n",
              "<head><meta charset=\"utf-8\" /></head>\n",
              "<body>\n",
              "    <div>            <script src=\"https://cdnjs.cloudflare.com/ajax/libs/mathjax/2.7.5/MathJax.js?config=TeX-AMS-MML_SVG\"></script><script type=\"text/javascript\">if (window.MathJax && window.MathJax.Hub && window.MathJax.Hub.Config) {window.MathJax.Hub.Config({SVG: {font: \"STIX-Web\"}});}</script>                <script type=\"text/javascript\">window.PlotlyConfig = {MathJaxConfig: 'local'};</script>\n",
              "        <script charset=\"utf-8\" src=\"https://cdn.plot.ly/plotly-2.24.1.min.js\"></script>                <div id=\"e31f576d-bb25-4f11-88d3-f7e1b658d855\" class=\"plotly-graph-div\" style=\"height:525px; width:100%;\"></div>            <script type=\"text/javascript\">                                    window.PLOTLYENV=window.PLOTLYENV || {};                                    if (document.getElementById(\"e31f576d-bb25-4f11-88d3-f7e1b658d855\")) {                    Plotly.newPlot(                        \"e31f576d-bb25-4f11-88d3-f7e1b658d855\",                        [{\"marker\":{\"size\":1},\"mode\":\"markers\",\"x\":[-6.9977854955067995,-6.824572298538876,3.129674548698925,-9.568379064752317,-3.308843433105955,2.6769218897028013,6.128109839792591,-4.558662837165282,7.979918343992589,0.7878689179074501,-6.227190706029624,6.03023476950017,6.288055193104146,1.886621010833144,-6.188839217304927,-1.5932657407215816,3.6575302893825796,9.717633026101907,-11.895881013995155,-9.519048237880114,-9.578856467549295,-1.0934990774035809,4.324343840627267,-9.239515674722124,-5.253689833601688,8.439474885808231,-1.1946258215982226,6.957584692702865,11.776103216461141,-7.5104770992358,1.6095283398418418,3.345381335526799,1.3202106866218513,-1.67937499193516,-4.535811428850994,8.144989479059614,-8.248416504838616,-8.60570523272939,2.318773393701055,-11.290656175773313,7.026706670989125,8.07170065855642,1.7846422128011339,8.3460891071543,-4.655393847092579,8.535023998358652,-3.855263040961421,-1.2119218967408516,-11.074228786450252,-11.773538327380518,-0.7323667787422545,7.094084234829895,3.164033742734402,3.6739313916354455,-2.7356715744030735,9.584222102397604,6.08297493453702,6.386880467613365,10.43296516234394,-6.924659477157653,6.727231395261878,10.435949577308367,5.108250420726667,-6.4294299270208555,2.25019212637486,1.8250834666586835,5.51185986799795,3.5737077250068383,-0.37282380510716173,0.22854835136593188,-8.116701082962308,-9.777315450317532,-11.558098171919298,-7.675975694322518,10.355028376223085,1.094267347094089,8.729289964428105,-4.271891724536958,-6.927565360214524,-4.646228614399017,2.0126905097687393,-8.198485164540315,-8.654578573151966,-7.82072430247218,-11.747109088415208,11.947364236523345,-10.371605036976426,10.199762409297893,-11.595101535049444,8.24768005124216,-3.6784220728547306,7.012050289175877,-9.490297423505659,-5.577340445341153,-8.545542546851108,-7.093881729138298,2.6661381437858447,5.503852125200889,9.12679218149356,-10.645101548269986],\"y\":[-5.196559485105752,-8.418127571114782,9.216331414763918,-9.490738236787003,-2.50559167158747,9.515284342299314,9.362877027344917,-9.408918492126425,8.348557249610762,-6.2038572292093646,-4.561396120672752,4.89056345810171,12.640283685013658,3.1863271556326236,-5.847613437833855,-6.366056742407522,13.898601897390614,22.118183292273343,-19.096028659646734,-14.58374589937336,-16.290328417686162,1.8151027859223428,13.801732928811795,-17.329743915229262,-4.901047109917496,14.702097577228132,-0.5102430061904677,14.067727883258746,26.026381081747516,-19.581485695780383,6.701795981775777,13.235250894628635,7.4222708935398485,1.984685389608491,-10.778599731841656,6.421159717559043,-20.655663055130198,-18.661668154527348,-0.3940866065026478,-11.70233439989162,10.833190944274014,5.813986884059602,8.444895703356721,9.806985140438771,-6.915026574084552,14.918070613188652,-3.9348532618468477,0.10656219510593967,-16.18190624127992,-17.93912797413579,-3.704766504753624,13.824354141398688,12.887267169175418,11.309077731342464,-10.516450478315793,14.659285548585913,4.354583978906332,6.622200117951818,19.924518789352135,-14.523626065596112,5.1374814687602015,22.409614690077035,4.487461500965754,-4.670765488569943,8.748628050902024,0.44986599116502024,12.770166721983966,1.135614175617035,-1.2339750443291262,-2.141943192060923,-8.066833169055519,-23.24349564445706,-25.586888979412883,-16.151230402982684,21.217861464580132,0.4052179414605437,12.280329359878747,-0.31563174485599266,-11.309584852913497,-15.175080832981205,7.977554241643472,-18.678413673691136,-18.99936574502708,-10.502110180381965,-24.207352864981626,23.130847258005403,-9.521098939035543,15.457473814748303,-27.117350117227694,14.263446241647987,-4.52850890739358,3.785788015797456,-16.727938059369002,-9.449677945190077,-17.10974203440074,-9.955124622562462,10.488522172928175,4.643491779706174,11.731016030708972,-16.967427352749944],\"z\":[4.13382117556998,0.6813021602703868,5.043432016498685,3.267100516216085,1.9061995725538035,5.946055156028911,1.1920639076214616,-3.330701375906048,-2.2913338757126898,-7.254349119752631,3.7415248207000804,-3.1497495678985175,4.2562100942081305,0.6708324745217649,2.4041721852393794,-4.241702421445413,9.021894844880508,9.161339257470802,-3.2348539743198614,-1.8916815821998734,-3.5185197942871014,3.273101555793784,8.035941141308772,-5.010389682266427,2.103872668218089,3.449464396150491,1.0825914226071625,4.79094829298826,10.324910126465996,-9.56751623013265,4.555758195319988,8.77474244725957,5.661989978044047,4.223852045522038,-4.73085116004033,-4.438826254520443,-9.657774382012041,-7.187394510888163,-3.4857844647707212,3.3518738344727943,1.4642487162885143,-4.948280660682289,6.065372752955208,-1.3211336691002966,-0.7078347779611125,3.5380386153771166,1.2054974594350467,1.7224580574270751,-1.4162678593462505,-2.2410768709617663,-2.728277466430618,4.365575161625495,8.668555512196216,6.410502542495204,-6.868888379111696,1.8803227453891083,-3.7560492671430286,-1.8936405055326677,6.0138985728935515,-5.290746762719242,-3.8321603915889693,8.49501525366588,-2.323539060003136,3.9018077474578643,5.748371882402211,-1.9835786310465577,5.421020231320032,-3.629329457725416,-0.7368766375195772,-2.446674327215499,2.75543494156089,-10.207075044033681,-10.176091416853819,-5.916596143885994,7.411156962949355,-1.0538051879982415,0.6412760739746073,5.380223887859951,-2.0728310392941314,-8.98010934711585,5.293966895285153,-7.747100120970713,-7.459927647491129,-0.07447777708572456,-8.544540747094683,7.20102827597428,4.307707776933025,1.85779060235111,-11.65721473716177,3.2665395066584386,0.37605385641272715,-5.56361236977038,-4.074208161361457,-2.0132240180685406,-5.715685305265927,-0.49661565037806454,6.933671314547049,-2.6949777205616767,-0.4380402112824413,-2.773958621723292],\"type\":\"scatter3d\"}],                        {\"template\":{\"data\":{\"histogram2dcontour\":[{\"type\":\"histogram2dcontour\",\"colorbar\":{\"outlinewidth\":0,\"ticks\":\"\"},\"colorscale\":[[0.0,\"#0d0887\"],[0.1111111111111111,\"#46039f\"],[0.2222222222222222,\"#7201a8\"],[0.3333333333333333,\"#9c179e\"],[0.4444444444444444,\"#bd3786\"],[0.5555555555555556,\"#d8576b\"],[0.6666666666666666,\"#ed7953\"],[0.7777777777777778,\"#fb9f3a\"],[0.8888888888888888,\"#fdca26\"],[1.0,\"#f0f921\"]]}],\"choropleth\":[{\"type\":\"choropleth\",\"colorbar\":{\"outlinewidth\":0,\"ticks\":\"\"}}],\"histogram2d\":[{\"type\":\"histogram2d\",\"colorbar\":{\"outlinewidth\":0,\"ticks\":\"\"},\"colorscale\":[[0.0,\"#0d0887\"],[0.1111111111111111,\"#46039f\"],[0.2222222222222222,\"#7201a8\"],[0.3333333333333333,\"#9c179e\"],[0.4444444444444444,\"#bd3786\"],[0.5555555555555556,\"#d8576b\"],[0.6666666666666666,\"#ed7953\"],[0.7777777777777778,\"#fb9f3a\"],[0.8888888888888888,\"#fdca26\"],[1.0,\"#f0f921\"]]}],\"heatmap\":[{\"type\":\"heatmap\",\"colorbar\":{\"outlinewidth\":0,\"ticks\":\"\"},\"colorscale\":[[0.0,\"#0d0887\"],[0.1111111111111111,\"#46039f\"],[0.2222222222222222,\"#7201a8\"],[0.3333333333333333,\"#9c179e\"],[0.4444444444444444,\"#bd3786\"],[0.5555555555555556,\"#d8576b\"],[0.6666666666666666,\"#ed7953\"],[0.7777777777777778,\"#fb9f3a\"],[0.8888888888888888,\"#fdca26\"],[1.0,\"#f0f921\"]]}],\"heatmapgl\":[{\"type\":\"heatmapgl\",\"colorbar\":{\"outlinewidth\":0,\"ticks\":\"\"},\"colorscale\":[[0.0,\"#0d0887\"],[0.1111111111111111,\"#46039f\"],[0.2222222222222222,\"#7201a8\"],[0.3333333333333333,\"#9c179e\"],[0.4444444444444444,\"#bd3786\"],[0.5555555555555556,\"#d8576b\"],[0.6666666666666666,\"#ed7953\"],[0.7777777777777778,\"#fb9f3a\"],[0.8888888888888888,\"#fdca26\"],[1.0,\"#f0f921\"]]}],\"contourcarpet\":[{\"type\":\"contourcarpet\",\"colorbar\":{\"outlinewidth\":0,\"ticks\":\"\"}}],\"contour\":[{\"type\":\"contour\",\"colorbar\":{\"outlinewidth\":0,\"ticks\":\"\"},\"colorscale\":[[0.0,\"#0d0887\"],[0.1111111111111111,\"#46039f\"],[0.2222222222222222,\"#7201a8\"],[0.3333333333333333,\"#9c179e\"],[0.4444444444444444,\"#bd3786\"],[0.5555555555555556,\"#d8576b\"],[0.6666666666666666,\"#ed7953\"],[0.7777777777777778,\"#fb9f3a\"],[0.8888888888888888,\"#fdca26\"],[1.0,\"#f0f921\"]]}],\"surface\":[{\"type\":\"surface\",\"colorbar\":{\"outlinewidth\":0,\"ticks\":\"\"},\"colorscale\":[[0.0,\"#0d0887\"],[0.1111111111111111,\"#46039f\"],[0.2222222222222222,\"#7201a8\"],[0.3333333333333333,\"#9c179e\"],[0.4444444444444444,\"#bd3786\"],[0.5555555555555556,\"#d8576b\"],[0.6666666666666666,\"#ed7953\"],[0.7777777777777778,\"#fb9f3a\"],[0.8888888888888888,\"#fdca26\"],[1.0,\"#f0f921\"]]}],\"mesh3d\":[{\"type\":\"mesh3d\",\"colorbar\":{\"outlinewidth\":0,\"ticks\":\"\"}}],\"scatter\":[{\"fillpattern\":{\"fillmode\":\"overlay\",\"size\":10,\"solidity\":0.2},\"type\":\"scatter\"}],\"parcoords\":[{\"type\":\"parcoords\",\"line\":{\"colorbar\":{\"outlinewidth\":0,\"ticks\":\"\"}}}],\"scatterpolargl\":[{\"type\":\"scatterpolargl\",\"marker\":{\"colorbar\":{\"outlinewidth\":0,\"ticks\":\"\"}}}],\"bar\":[{\"error_x\":{\"color\":\"#2a3f5f\"},\"error_y\":{\"color\":\"#2a3f5f\"},\"marker\":{\"line\":{\"color\":\"#E5ECF6\",\"width\":0.5},\"pattern\":{\"fillmode\":\"overlay\",\"size\":10,\"solidity\":0.2}},\"type\":\"bar\"}],\"scattergeo\":[{\"type\":\"scattergeo\",\"marker\":{\"colorbar\":{\"outlinewidth\":0,\"ticks\":\"\"}}}],\"scatterpolar\":[{\"type\":\"scatterpolar\",\"marker\":{\"colorbar\":{\"outlinewidth\":0,\"ticks\":\"\"}}}],\"histogram\":[{\"marker\":{\"pattern\":{\"fillmode\":\"overlay\",\"size\":10,\"solidity\":0.2}},\"type\":\"histogram\"}],\"scattergl\":[{\"type\":\"scattergl\",\"marker\":{\"colorbar\":{\"outlinewidth\":0,\"ticks\":\"\"}}}],\"scatter3d\":[{\"type\":\"scatter3d\",\"line\":{\"colorbar\":{\"outlinewidth\":0,\"ticks\":\"\"}},\"marker\":{\"colorbar\":{\"outlinewidth\":0,\"ticks\":\"\"}}}],\"scattermapbox\":[{\"type\":\"scattermapbox\",\"marker\":{\"colorbar\":{\"outlinewidth\":0,\"ticks\":\"\"}}}],\"scatterternary\":[{\"type\":\"scatterternary\",\"marker\":{\"colorbar\":{\"outlinewidth\":0,\"ticks\":\"\"}}}],\"scattercarpet\":[{\"type\":\"scattercarpet\",\"marker\":{\"colorbar\":{\"outlinewidth\":0,\"ticks\":\"\"}}}],\"carpet\":[{\"aaxis\":{\"endlinecolor\":\"#2a3f5f\",\"gridcolor\":\"white\",\"linecolor\":\"white\",\"minorgridcolor\":\"white\",\"startlinecolor\":\"#2a3f5f\"},\"baxis\":{\"endlinecolor\":\"#2a3f5f\",\"gridcolor\":\"white\",\"linecolor\":\"white\",\"minorgridcolor\":\"white\",\"startlinecolor\":\"#2a3f5f\"},\"type\":\"carpet\"}],\"table\":[{\"cells\":{\"fill\":{\"color\":\"#EBF0F8\"},\"line\":{\"color\":\"white\"}},\"header\":{\"fill\":{\"color\":\"#C8D4E3\"},\"line\":{\"color\":\"white\"}},\"type\":\"table\"}],\"barpolar\":[{\"marker\":{\"line\":{\"color\":\"#E5ECF6\",\"width\":0.5},\"pattern\":{\"fillmode\":\"overlay\",\"size\":10,\"solidity\":0.2}},\"type\":\"barpolar\"}],\"pie\":[{\"automargin\":true,\"type\":\"pie\"}]},\"layout\":{\"autotypenumbers\":\"strict\",\"colorway\":[\"#636efa\",\"#EF553B\",\"#00cc96\",\"#ab63fa\",\"#FFA15A\",\"#19d3f3\",\"#FF6692\",\"#B6E880\",\"#FF97FF\",\"#FECB52\"],\"font\":{\"color\":\"#2a3f5f\"},\"hovermode\":\"closest\",\"hoverlabel\":{\"align\":\"left\"},\"paper_bgcolor\":\"white\",\"plot_bgcolor\":\"#E5ECF6\",\"polar\":{\"bgcolor\":\"#E5ECF6\",\"angularaxis\":{\"gridcolor\":\"white\",\"linecolor\":\"white\",\"ticks\":\"\"},\"radialaxis\":{\"gridcolor\":\"white\",\"linecolor\":\"white\",\"ticks\":\"\"}},\"ternary\":{\"bgcolor\":\"#E5ECF6\",\"aaxis\":{\"gridcolor\":\"white\",\"linecolor\":\"white\",\"ticks\":\"\"},\"baxis\":{\"gridcolor\":\"white\",\"linecolor\":\"white\",\"ticks\":\"\"},\"caxis\":{\"gridcolor\":\"white\",\"linecolor\":\"white\",\"ticks\":\"\"}},\"coloraxis\":{\"colorbar\":{\"outlinewidth\":0,\"ticks\":\"\"}},\"colorscale\":{\"sequential\":[[0.0,\"#0d0887\"],[0.1111111111111111,\"#46039f\"],[0.2222222222222222,\"#7201a8\"],[0.3333333333333333,\"#9c179e\"],[0.4444444444444444,\"#bd3786\"],[0.5555555555555556,\"#d8576b\"],[0.6666666666666666,\"#ed7953\"],[0.7777777777777778,\"#fb9f3a\"],[0.8888888888888888,\"#fdca26\"],[1.0,\"#f0f921\"]],\"sequentialminus\":[[0.0,\"#0d0887\"],[0.1111111111111111,\"#46039f\"],[0.2222222222222222,\"#7201a8\"],[0.3333333333333333,\"#9c179e\"],[0.4444444444444444,\"#bd3786\"],[0.5555555555555556,\"#d8576b\"],[0.6666666666666666,\"#ed7953\"],[0.7777777777777778,\"#fb9f3a\"],[0.8888888888888888,\"#fdca26\"],[1.0,\"#f0f921\"]],\"diverging\":[[0,\"#8e0152\"],[0.1,\"#c51b7d\"],[0.2,\"#de77ae\"],[0.3,\"#f1b6da\"],[0.4,\"#fde0ef\"],[0.5,\"#f7f7f7\"],[0.6,\"#e6f5d0\"],[0.7,\"#b8e186\"],[0.8,\"#7fbc41\"],[0.9,\"#4d9221\"],[1,\"#276419\"]]},\"xaxis\":{\"gridcolor\":\"white\",\"linecolor\":\"white\",\"ticks\":\"\",\"title\":{\"standoff\":15},\"zerolinecolor\":\"white\",\"automargin\":true,\"zerolinewidth\":2},\"yaxis\":{\"gridcolor\":\"white\",\"linecolor\":\"white\",\"ticks\":\"\",\"title\":{\"standoff\":15},\"zerolinecolor\":\"white\",\"automargin\":true,\"zerolinewidth\":2},\"scene\":{\"xaxis\":{\"backgroundcolor\":\"#E5ECF6\",\"gridcolor\":\"white\",\"linecolor\":\"white\",\"showbackground\":true,\"ticks\":\"\",\"zerolinecolor\":\"white\",\"gridwidth\":2},\"yaxis\":{\"backgroundcolor\":\"#E5ECF6\",\"gridcolor\":\"white\",\"linecolor\":\"white\",\"showbackground\":true,\"ticks\":\"\",\"zerolinecolor\":\"white\",\"gridwidth\":2},\"zaxis\":{\"backgroundcolor\":\"#E5ECF6\",\"gridcolor\":\"white\",\"linecolor\":\"white\",\"showbackground\":true,\"ticks\":\"\",\"zerolinecolor\":\"white\",\"gridwidth\":2}},\"shapedefaults\":{\"line\":{\"color\":\"#2a3f5f\"}},\"annotationdefaults\":{\"arrowcolor\":\"#2a3f5f\",\"arrowhead\":0,\"arrowwidth\":1},\"geo\":{\"bgcolor\":\"white\",\"landcolor\":\"#E5ECF6\",\"subunitcolor\":\"white\",\"showland\":true,\"showlakes\":true,\"lakecolor\":\"white\"},\"title\":{\"x\":0.05},\"mapbox\":{\"style\":\"light\"}}}},                        {\"responsive\": true}                    ).then(function(){\n",
              "                            \n",
              "var gd = document.getElementById('e31f576d-bb25-4f11-88d3-f7e1b658d855');\n",
              "var x = new MutationObserver(function (mutations, observer) {{\n",
              "        var display = window.getComputedStyle(gd).display;\n",
              "        if (!display || display === 'none') {{\n",
              "            console.log([gd, 'removed!']);\n",
              "            Plotly.purge(gd);\n",
              "            observer.disconnect();\n",
              "        }}\n",
              "}});\n",
              "\n",
              "// Listen for the removal of the full notebook cells\n",
              "var notebookContainer = gd.closest('#notebook-container');\n",
              "if (notebookContainer) {{\n",
              "    x.observe(notebookContainer, {childList: true});\n",
              "}}\n",
              "\n",
              "// Listen for the clearing of the current output cell\n",
              "var outputEl = gd.closest('.output');\n",
              "if (outputEl) {{\n",
              "    x.observe(outputEl, {childList: true});\n",
              "}}\n",
              "\n",
              "                        })                };                            </script>        </div>\n",
              "</body>\n",
              "</html>"
            ]
          },
          "metadata": {}
        }
      ]
    },
    {
      "cell_type": "code",
      "source": [
        "# the vector set (just one vector)\n",
        "A = np.array([1, 3])\n",
        "\n",
        "# x-axis range\n",
        "xlim = [-4, 4]\n",
        "\n",
        "# random scalars in that range\n",
        "scalars = np.random.uniform(low = xlim[0], high = xlim[1], size = 100)\n",
        "\n",
        "# create a figure, etc\n",
        "plt.figure(figsize = (6, 6))\n",
        "\n",
        "# loop over the random scalars\n",
        "for s in scalars:\n",
        "\n",
        "  # create point p\n",
        "  p = A*s\n",
        "\n",
        "  # plot it\n",
        "  plt.plot(p[0], p[1], 'ko')\n",
        "\n",
        "plt.xlim(xlim)\n",
        "plt.ylim(xlim)\n",
        "plt.grid()\n",
        "plt.text(-4.5, 4.5, 'A', fontweight = 'bold', fontsize = 18)\n",
        "plt.savefig('Figure_02_07a.png', dpi = 300)\n",
        "plt.show()"
      ],
      "metadata": {
        "colab": {
          "base_uri": "https://localhost:8080/",
          "height": 570
        },
        "id": "53ZP5MD-ip_U",
        "outputId": "75371b5d-49ee-4df1-d1eb-ed54197994ae"
      },
      "execution_count": 250,
      "outputs": [
        {
          "output_type": "display_data",
          "data": {
            "text/plain": [
              "<Figure size 600x600 with 1 Axes>"
            ],
            "image/png": "[encoded data removed]"
          },
          "metadata": {}
        }
      ]
    },
    {
      "cell_type": "code",
      "source": [
        "import plotly.graph_objects as go\n",
        "\n",
        "# two vectors in R3\n",
        "v1 = np.array([ 3, 5, 1 ])\n",
        "v2 = np.array([ 0, 2, 2 ])\n",
        "\n",
        "# random scalars in the x-aixs range\n",
        "scalars = np.random.uniform(low = xlim[0], high = xlim[1], size = (100, 2))\n",
        "\n",
        "# create random points\n",
        "points = np.zeros((100, 3))\n",
        "for i in range(len(scalars)):\n",
        "\n",
        "  # define this point as a random weighted combination of the two vectors\n",
        "  points[i, :] = v1*scalars[i, 0] + v2*scalars[i, 1]\n",
        "\n",
        "# draw the dots in the plane\n",
        "fig = go.Figure( data = [go.Scatter3d(x = points[: 0], y = points[: 1], z = points[: 2],\n",
        "                                      mode = 'markers', marker = dict(size = 6, color = 'black'))])\n",
        "\n",
        "fig.show()"
      ],
      "metadata": {
        "colab": {
          "base_uri": "https://localhost:8080/",
          "height": 542
        },
        "id": "B9MCQJYrjb8C",
        "outputId": "96cfffa2-e277-41ca-ebc1-7fd13c1f2ed7"
      },
      "execution_count": 256,
      "outputs": [
        {
          "output_type": "display_data",
          "data": {
            "text/html": [
              "<html>\n",
              "<head><meta charset=\"utf-8\" /></head>\n",
              "<body>\n",
              "    <div>            <script src=\"https://cdnjs.cloudflare.com/ajax/libs/mathjax/2.7.5/MathJax.js?config=TeX-AMS-MML_SVG\"></script><script type=\"text/javascript\">if (window.MathJax && window.MathJax.Hub && window.MathJax.Hub.Config) {window.MathJax.Hub.Config({SVG: {font: \"STIX-Web\"}});}</script>                <script type=\"text/javascript\">window.PlotlyConfig = {MathJaxConfig: 'local'};</script>\n",
              "        <script charset=\"utf-8\" src=\"https://cdn.plot.ly/plotly-2.24.1.min.js\"></script>                <div id=\"88fad9ec-9f20-4809-9013-02ccb16ec9d4\" class=\"plotly-graph-div\" style=\"height:525px; width:100%;\"></div>            <script type=\"text/javascript\">                                    window.PLOTLYENV=window.PLOTLYENV || {};                                    if (document.getElementById(\"88fad9ec-9f20-4809-9013-02ccb16ec9d4\")) {                    Plotly.newPlot(                        \"88fad9ec-9f20-4809-9013-02ccb16ec9d4\",                        [{\"marker\":{\"color\":\"black\",\"size\":6},\"mode\":\"markers\",\"x\":[],\"y\":[[-11.389650753531104,-16.93374197906435,-1.7475409743562107]],\"z\":[[-11.389650753531104,-16.93374197906435,-1.7475409743562107],[-9.044430656586217,-13.516535815577397,-1.457294940129108]],\"type\":\"scatter3d\"}],                        {\"template\":{\"data\":{\"histogram2dcontour\":[{\"type\":\"histogram2dcontour\",\"colorbar\":{\"outlinewidth\":0,\"ticks\":\"\"},\"colorscale\":[[0.0,\"#0d0887\"],[0.1111111111111111,\"#46039f\"],[0.2222222222222222,\"#7201a8\"],[0.3333333333333333,\"#9c179e\"],[0.4444444444444444,\"#bd3786\"],[0.5555555555555556,\"#d8576b\"],[0.6666666666666666,\"#ed7953\"],[0.7777777777777778,\"#fb9f3a\"],[0.8888888888888888,\"#fdca26\"],[1.0,\"#f0f921\"]]}],\"choropleth\":[{\"type\":\"choropleth\",\"colorbar\":{\"outlinewidth\":0,\"ticks\":\"\"}}],\"histogram2d\":[{\"type\":\"histogram2d\",\"colorbar\":{\"outlinewidth\":0,\"ticks\":\"\"},\"colorscale\":[[0.0,\"#0d0887\"],[0.1111111111111111,\"#46039f\"],[0.2222222222222222,\"#7201a8\"],[0.3333333333333333,\"#9c179e\"],[0.4444444444444444,\"#bd3786\"],[0.5555555555555556,\"#d8576b\"],[0.6666666666666666,\"#ed7953\"],[0.7777777777777778,\"#fb9f3a\"],[0.8888888888888888,\"#fdca26\"],[1.0,\"#f0f921\"]]}],\"heatmap\":[{\"type\":\"heatmap\",\"colorbar\":{\"outlinewidth\":0,\"ticks\":\"\"},\"colorscale\":[[0.0,\"#0d0887\"],[0.1111111111111111,\"#46039f\"],[0.2222222222222222,\"#7201a8\"],[0.3333333333333333,\"#9c179e\"],[0.4444444444444444,\"#bd3786\"],[0.5555555555555556,\"#d8576b\"],[0.6666666666666666,\"#ed7953\"],[0.7777777777777778,\"#fb9f3a\"],[0.8888888888888888,\"#fdca26\"],[1.0,\"#f0f921\"]]}],\"heatmapgl\":[{\"type\":\"heatmapgl\",\"colorbar\":{\"outlinewidth\":0,\"ticks\":\"\"},\"colorscale\":[[0.0,\"#0d0887\"],[0.1111111111111111,\"#46039f\"],[0.2222222222222222,\"#7201a8\"],[0.3333333333333333,\"#9c179e\"],[0.4444444444444444,\"#bd3786\"],[0.5555555555555556,\"#d8576b\"],[0.6666666666666666,\"#ed7953\"],[0.7777777777777778,\"#fb9f3a\"],[0.8888888888888888,\"#fdca26\"],[1.0,\"#f0f921\"]]}],\"contourcarpet\":[{\"type\":\"contourcarpet\",\"colorbar\":{\"outlinewidth\":0,\"ticks\":\"\"}}],\"contour\":[{\"type\":\"contour\",\"colorbar\":{\"outlinewidth\":0,\"ticks\":\"\"},\"colorscale\":[[0.0,\"#0d0887\"],[0.1111111111111111,\"#46039f\"],[0.2222222222222222,\"#7201a8\"],[0.3333333333333333,\"#9c179e\"],[0.4444444444444444,\"#bd3786\"],[0.5555555555555556,\"#d8576b\"],[0.6666666666666666,\"#ed7953\"],[0.7777777777777778,\"#fb9f3a\"],[0.8888888888888888,\"#fdca26\"],[1.0,\"#f0f921\"]]}],\"surface\":[{\"type\":\"surface\",\"colorbar\":{\"outlinewidth\":0,\"ticks\":\"\"},\"colorscale\":[[0.0,\"#0d0887\"],[0.1111111111111111,\"#46039f\"],[0.2222222222222222,\"#7201a8\"],[0.3333333333333333,\"#9c179e\"],[0.4444444444444444,\"#bd3786\"],[0.5555555555555556,\"#d8576b\"],[0.6666666666666666,\"#ed7953\"],[0.7777777777777778,\"#fb9f3a\"],[0.8888888888888888,\"#fdca26\"],[1.0,\"#f0f921\"]]}],\"mesh3d\":[{\"type\":\"mesh3d\",\"colorbar\":{\"outlinewidth\":0,\"ticks\":\"\"}}],\"scatter\":[{\"fillpattern\":{\"fillmode\":\"overlay\",\"size\":10,\"solidity\":0.2},\"type\":\"scatter\"}],\"parcoords\":[{\"type\":\"parcoords\",\"line\":{\"colorbar\":{\"outlinewidth\":0,\"ticks\":\"\"}}}],\"scatterpolargl\":[{\"type\":\"scatterpolargl\",\"marker\":{\"colorbar\":{\"outlinewidth\":0,\"ticks\":\"\"}}}],\"bar\":[{\"error_x\":{\"color\":\"#2a3f5f\"},\"error_y\":{\"color\":\"#2a3f5f\"},\"marker\":{\"line\":{\"color\":\"#E5ECF6\",\"width\":0.5},\"pattern\":{\"fillmode\":\"overlay\",\"size\":10,\"solidity\":0.2}},\"type\":\"bar\"}],\"scattergeo\":[{\"type\":\"scattergeo\",\"marker\":{\"colorbar\":{\"outlinewidth\":0,\"ticks\":\"\"}}}],\"scatterpolar\":[{\"type\":\"scatterpolar\",\"marker\":{\"colorbar\":{\"outlinewidth\":0,\"ticks\":\"\"}}}],\"histogram\":[{\"marker\":{\"pattern\":{\"fillmode\":\"overlay\",\"size\":10,\"solidity\":0.2}},\"type\":\"histogram\"}],\"scattergl\":[{\"type\":\"scattergl\",\"marker\":{\"colorbar\":{\"outlinewidth\":0,\"ticks\":\"\"}}}],\"scatter3d\":[{\"type\":\"scatter3d\",\"line\":{\"colorbar\":{\"outlinewidth\":0,\"ticks\":\"\"}},\"marker\":{\"colorbar\":{\"outlinewidth\":0,\"ticks\":\"\"}}}],\"scattermapbox\":[{\"type\":\"scattermapbox\",\"marker\":{\"colorbar\":{\"outlinewidth\":0,\"ticks\":\"\"}}}],\"scatterternary\":[{\"type\":\"scatterternary\",\"marker\":{\"colorbar\":{\"outlinewidth\":0,\"ticks\":\"\"}}}],\"scattercarpet\":[{\"type\":\"scattercarpet\",\"marker\":{\"colorbar\":{\"outlinewidth\":0,\"ticks\":\"\"}}}],\"carpet\":[{\"aaxis\":{\"endlinecolor\":\"#2a3f5f\",\"gridcolor\":\"white\",\"linecolor\":\"white\",\"minorgridcolor\":\"white\",\"startlinecolor\":\"#2a3f5f\"},\"baxis\":{\"endlinecolor\":\"#2a3f5f\",\"gridcolor\":\"white\",\"linecolor\":\"white\",\"minorgridcolor\":\"white\",\"startlinecolor\":\"#2a3f5f\"},\"type\":\"carpet\"}],\"table\":[{\"cells\":{\"fill\":{\"color\":\"#EBF0F8\"},\"line\":{\"color\":\"white\"}},\"header\":{\"fill\":{\"color\":\"#C8D4E3\"},\"line\":{\"color\":\"white\"}},\"type\":\"table\"}],\"barpolar\":[{\"marker\":{\"line\":{\"color\":\"#E5ECF6\",\"width\":0.5},\"pattern\":{\"fillmode\":\"overlay\",\"size\":10,\"solidity\":0.2}},\"type\":\"barpolar\"}],\"pie\":[{\"automargin\":true,\"type\":\"pie\"}]},\"layout\":{\"autotypenumbers\":\"strict\",\"colorway\":[\"#636efa\",\"#EF553B\",\"#00cc96\",\"#ab63fa\",\"#FFA15A\",\"#19d3f3\",\"#FF6692\",\"#B6E880\",\"#FF97FF\",\"#FECB52\"],\"font\":{\"color\":\"#2a3f5f\"},\"hovermode\":\"closest\",\"hoverlabel\":{\"align\":\"left\"},\"paper_bgcolor\":\"white\",\"plot_bgcolor\":\"#E5ECF6\",\"polar\":{\"bgcolor\":\"#E5ECF6\",\"angularaxis\":{\"gridcolor\":\"white\",\"linecolor\":\"white\",\"ticks\":\"\"},\"radialaxis\":{\"gridcolor\":\"white\",\"linecolor\":\"white\",\"ticks\":\"\"}},\"ternary\":{\"bgcolor\":\"#E5ECF6\",\"aaxis\":{\"gridcolor\":\"white\",\"linecolor\":\"white\",\"ticks\":\"\"},\"baxis\":{\"gridcolor\":\"white\",\"linecolor\":\"white\",\"ticks\":\"\"},\"caxis\":{\"gridcolor\":\"white\",\"linecolor\":\"white\",\"ticks\":\"\"}},\"coloraxis\":{\"colorbar\":{\"outlinewidth\":0,\"ticks\":\"\"}},\"colorscale\":{\"sequential\":[[0.0,\"#0d0887\"],[0.1111111111111111,\"#46039f\"],[0.2222222222222222,\"#7201a8\"],[0.3333333333333333,\"#9c179e\"],[0.4444444444444444,\"#bd3786\"],[0.5555555555555556,\"#d8576b\"],[0.6666666666666666,\"#ed7953\"],[0.7777777777777778,\"#fb9f3a\"],[0.8888888888888888,\"#fdca26\"],[1.0,\"#f0f921\"]],\"sequentialminus\":[[0.0,\"#0d0887\"],[0.1111111111111111,\"#46039f\"],[0.2222222222222222,\"#7201a8\"],[0.3333333333333333,\"#9c179e\"],[0.4444444444444444,\"#bd3786\"],[0.5555555555555556,\"#d8576b\"],[0.6666666666666666,\"#ed7953\"],[0.7777777777777778,\"#fb9f3a\"],[0.8888888888888888,\"#fdca26\"],[1.0,\"#f0f921\"]],\"diverging\":[[0,\"#8e0152\"],[0.1,\"#c51b7d\"],[0.2,\"#de77ae\"],[0.3,\"#f1b6da\"],[0.4,\"#fde0ef\"],[0.5,\"#f7f7f7\"],[0.6,\"#e6f5d0\"],[0.7,\"#b8e186\"],[0.8,\"#7fbc41\"],[0.9,\"#4d9221\"],[1,\"#276419\"]]},\"xaxis\":{\"gridcolor\":\"white\",\"linecolor\":\"white\",\"ticks\":\"\",\"title\":{\"standoff\":15},\"zerolinecolor\":\"white\",\"automargin\":true,\"zerolinewidth\":2},\"yaxis\":{\"gridcolor\":\"white\",\"linecolor\":\"white\",\"ticks\":\"\",\"title\":{\"standoff\":15},\"zerolinecolor\":\"white\",\"automargin\":true,\"zerolinewidth\":2},\"scene\":{\"xaxis\":{\"backgroundcolor\":\"#E5ECF6\",\"gridcolor\":\"white\",\"linecolor\":\"white\",\"showbackground\":true,\"ticks\":\"\",\"zerolinecolor\":\"white\",\"gridwidth\":2},\"yaxis\":{\"backgroundcolor\":\"#E5ECF6\",\"gridcolor\":\"white\",\"linecolor\":\"white\",\"showbackground\":true,\"ticks\":\"\",\"zerolinecolor\":\"white\",\"gridwidth\":2},\"zaxis\":{\"backgroundcolor\":\"#E5ECF6\",\"gridcolor\":\"white\",\"linecolor\":\"white\",\"showbackground\":true,\"ticks\":\"\",\"zerolinecolor\":\"white\",\"gridwidth\":2}},\"shapedefaults\":{\"line\":{\"color\":\"#2a3f5f\"}},\"annotationdefaults\":{\"arrowcolor\":\"#2a3f5f\",\"arrowhead\":0,\"arrowwidth\":1},\"geo\":{\"bgcolor\":\"white\",\"landcolor\":\"#E5ECF6\",\"subunitcolor\":\"white\",\"showland\":true,\"showlakes\":true,\"lakecolor\":\"white\"},\"title\":{\"x\":0.05},\"mapbox\":{\"style\":\"light\"}}}},                        {\"responsive\": true}                    ).then(function(){\n",
              "                            \n",
              "var gd = document.getElementById('88fad9ec-9f20-4809-9013-02ccb16ec9d4');\n",
              "var x = new MutationObserver(function (mutations, observer) {{\n",
              "        var display = window.getComputedStyle(gd).display;\n",
              "        if (!display || display === 'none') {{\n",
              "            console.log([gd, 'removed!']);\n",
              "            Plotly.purge(gd);\n",
              "            observer.disconnect();\n",
              "        }}\n",
              "}});\n",
              "\n",
              "// Listen for the removal of the full notebook cells\n",
              "var notebookContainer = gd.closest('#notebook-container');\n",
              "if (notebookContainer) {{\n",
              "    x.observe(notebookContainer, {childList: true});\n",
              "}}\n",
              "\n",
              "// Listen for the clearing of the current output cell\n",
              "var outputEl = gd.closest('.output');\n",
              "if (outputEl) {{\n",
              "    x.observe(outputEl, {childList: true});\n",
              "}}\n",
              "\n",
              "                        })                };                            </script>        </div>\n",
              "</body>\n",
              "</html>"
            ]
          },
          "metadata": {}
        }
      ]
    }
  ]
}
