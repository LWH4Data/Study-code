{
  "nbformat": 4,
  "nbformat_minor": 0,
  "metadata": {
    "colab": {
      "provenance": [],
      "authorship_tag": "ABX9TyNNEGIE+WSkuA2028DbIQcr",
      "include_colab_link": true
    },
    "kernelspec": {
      "name": "python3",
      "display_name": "Python 3"
    },
    "language_info": {
      "name": "python"
    }
  },
  "cells": [
    {
      "cell_type": "markdown",
      "metadata": {
        "id": "view-in-github",
        "colab_type": "text"
      },
      "source": [
        "<a href=\"https://colab.research.google.com/github/LWH4Data/Study-code/blob/main/%EA%B0%9C%EB%B0%9C%EC%9E%90%EB%A5%BC_%EC%9C%84%ED%95%9C_%EC%8B%A4%EC%A0%84_%EC%84%A0%ED%98%95%EB%8C%80%EC%88%98%ED%95%99_Chapter_1_%EC%97%B0%EC%8A%B5_%EB%AC%B8%EC%A0%9C.ipynb\" target=\"_parent\"><img src=\"https://colab.research.google.com/assets/colab-badge.svg\" alt=\"Open In Colab\"/></a>"
      ]
    },
    {
      "cell_type": "code",
      "execution_count": null,
      "metadata": {
        "id": "hvxwiEqdBJLC"
      },
      "outputs": [],
      "source": [
        "import numpy as np\n",
        "import matplotlib as mpl\n",
        "import matplotlib.pyplot as plt"
      ]
    },
    {
      "cell_type": "markdown",
      "source": [
        "### 한글 쓰려다가 정신이 먼저 나가겠다... 아래 링크를 이용하자\n",
        "\n",
        "https://jimmy-ai.tistory.com/109"
      ],
      "metadata": {
        "id": "_Y8QquhlEzCR"
      }
    },
    {
      "cell_type": "code",
      "source": [
        "!sudo apt-get install -y fonts-nanum\n",
        "!sudo fc-cache -fv\n",
        "!rm ~/.cache/matplotlib -rf\n",
        "\n",
        "import matplotlib.pyplot as plt\n",
        "\n",
        "plt.rc('font', family='NanumBarunGothic')"
      ],
      "metadata": {
        "colab": {
          "base_uri": "https://localhost:8080/"
        },
        "id": "R_29fuHpEspZ",
        "outputId": "4c25b64f-ee05-406d-d04c-090e16db1a69"
      },
      "execution_count": null,
      "outputs": [
        {
          "output_type": "stream",
          "name": "stdout",
          "text": [
            "Reading package lists... Done\n",
            "Building dependency tree... Done\n",
            "Reading state information... Done\n",
            "fonts-nanum is already the newest version (20200506-1).\n",
            "0 upgraded, 0 newly installed, 0 to remove and 35 not upgraded.\n",
            "/usr/share/fonts: caching, new cache contents: 0 fonts, 1 dirs\n",
            "/usr/share/fonts/truetype: caching, new cache contents: 0 fonts, 3 dirs\n",
            "/usr/share/fonts/truetype/humor-sans: caching, new cache contents: 1 fonts, 0 dirs\n",
            "/usr/share/fonts/truetype/liberation: caching, new cache contents: 16 fonts, 0 dirs\n",
            "/usr/share/fonts/truetype/nanum: caching, new cache contents: 12 fonts, 0 dirs\n",
            "/usr/local/share/fonts: caching, new cache contents: 0 fonts, 0 dirs\n",
            "/root/.local/share/fonts: skipping, no such directory\n",
            "/root/.fonts: skipping, no such directory\n",
            "/usr/share/fonts/truetype: skipping, looped directory detected\n",
            "/usr/share/fonts/truetype/humor-sans: skipping, looped directory detected\n",
            "/usr/share/fonts/truetype/liberation: skipping, looped directory detected\n",
            "/usr/share/fonts/truetype/nanum: skipping, looped directory detected\n",
            "/var/cache/fontconfig: cleaning cache directory\n",
            "/root/.cache/fontconfig: not cleaning non-existent cache directory\n",
            "/root/.fontconfig: not cleaning non-existent cache directory\n",
            "fc-cache: succeeded\n"
          ]
        }
      ]
    },
    {
      "cell_type": "markdown",
      "source": [
        "##연습 문제 1 : 직접 해보기"
      ],
      "metadata": {
        "id": "VcwDqU0J9Y6a"
      }
    },
    {
      "cell_type": "code",
      "source": [
        "# 교재 p31의 '그림 1-2' 시각화\n",
        "# create vectors\n",
        "v = np.array([[0, 1], [0, 2]])\n",
        "w = np.array([[1, 5], [2, -4]])\n",
        "p = v+w\n",
        "\n",
        "print(f'{v}, \\n{w}, \\n{p}')"
      ],
      "metadata": {
        "colab": {
          "base_uri": "https://localhost:8080/"
        },
        "id": "xIt9hj3fB0-R",
        "outputId": "cd375a9f-5e31-4d04-de7b-cdcc4cd3c079"
      },
      "execution_count": null,
      "outputs": [
        {
          "output_type": "stream",
          "name": "stdout",
          "text": [
            "[[0 1]\n",
            " [0 2]], \n",
            "[[ 1  5]\n",
            " [ 2 -4]], \n",
            "[[ 1  6]\n",
            " [ 2 -2]]\n"
          ]
        }
      ]
    },
    {
      "cell_type": "code",
      "source": [
        "import warnings\n",
        "warnings.simplefilter(action='ignore', category=FutureWarning) # FutureWarning 제거"
      ],
      "metadata": {
        "id": "g1wgxU9IC-mz"
      },
      "execution_count": null,
      "outputs": []
    },
    {
      "cell_type": "code",
      "source": [
        "# Create the plot\n",
        "# vector 'v ' in axs[0]\n",
        "fig, axs = plt.subplots(1, 2, figsize=(6, 3)) # make subplot\n",
        "axs[0].quiver(v[0][[0]], v[1][[0]], v[0][[1]], v[1][[1]], angles = 'xy', scale_units = 'xy', scale = 1, color = 'black') # visualize vector 'v'\n",
        "\n",
        "# vector 'w' in axs[0]\n",
        "axs[0].quiver(w[0][[0]], w[1][[0]], w[0][1]-w[0][[0]], w[1][[1]]-w[1][[0]], angles = 'xy', scale_units = 'xy', scale = 1, color = 'orange')\n",
        "\n",
        "# vector 'v+w' in axe[0]\n",
        "# 어떻게 벡터 합을 시각화 해야하는지 모르겠다.\n",
        "axs[0].quiver(0, 0, 5, -4, angles = 'xy', scale_units = 'xy', scale = 1, color = 'peachpuff')\n",
        "\n",
        "axs[0].set_xticks(np.arange(-6, 8, 2)) # set x axis\n",
        "axs[0].set_yticks(np.arange(-6, 7, 2)) # set y axis\n",
        "axs[0].grid(linestyle = 'dashed') # set grid dashed line\n",
        "axs[0].set_title('벡터 v, w, v+w')\n",
        "axs[0].legend(['v', 'w', 'v+w'], fontsize = 7)\n",
        "\n",
        "\n",
        "# Create axs[1]\n",
        "# vector 'v'\n",
        "axs[1].quiver(0, 0, v[0][[1]], v[1][[1]], angles = 'xy', scale_units = 'xy', scale = 1, color = 'black')\n",
        "\n",
        "# vector 'w'\n",
        "axs[1].quiver(w[0][[0]]-1, w[1][[0]]-2, w[0][[1]]-1, w[1][[1]]-2, angles = 'xy', scale_units = 'xy', scale = 1, color = 'orange')\n",
        "\n",
        "# vector 'v-w'\n",
        "axs[1].quiver(w[0][[1]]-1, w[1][[1]]-2, v[0][[1]]-w[0][[1]]+1, v[1][[1]]-w[1][[1]]+2, angles = 'xy', scale_units = 'xy', scale = 1, color = 'peachpuff')\n",
        "\n",
        "axs[1].set_xticks(np.arange(-6, 7, 2))\n",
        "axs[1].set_yticks(np.arange(-6, 7, 2))\n",
        "axs[1].grid(linestyle = 'dashed')\n",
        "axs[1].set_title('벡터 v, w, v-w')\n",
        "axs[1].legend(['v', 'w', 'v-w'], fontsize = 7)"
      ],
      "metadata": {
        "id": "q194cWPWD9WN",
        "colab": {
          "base_uri": "https://localhost:8080/",
          "height": 425
        },
        "outputId": "62e5c7a9-fad2-4b05-a7d4-1d9281062b60"
      },
      "execution_count": null,
      "outputs": [
        {
          "output_type": "execute_result",
          "data": {
            "text/plain": [
              "<matplotlib.legend.Legend at 0x7a5d9c3664a0>"
            ]
          },
          "metadata": {},
          "execution_count": 5
        },
        {
          "output_type": "stream",
          "name": "stderr",
          "text": [
            "/usr/local/lib/python3.10/dist-packages/IPython/core/events.py:89: UserWarning: Glyph 8722 (\\N{MINUS SIGN}) missing from current font.\n",
            "  func(*args, **kwargs)\n",
            "/usr/local/lib/python3.10/dist-packages/IPython/core/pylabtools.py:151: UserWarning: Glyph 8722 (\\N{MINUS SIGN}) missing from current font.\n",
            "  fig.canvas.print_figure(bytes_io, **kw)\n"
          ]
        },
        {
          "output_type": "display_data",
          "data": {
            "text/plain": [
              "<Figure size 600x300 with 2 Axes>"
            ],
            "image/png": "[encoded data removed]"
          },
          "metadata": {}
        }
      ]
    },
    {
      "cell_type": "markdown",
      "source": [
        "## 연습 문제 1 : 교재 답안"
      ],
      "metadata": {
        "id": "TFkL8mP_9mB7"
      }
    },
    {
      "cell_type": "code",
      "source": [
        "import numpy as np\n",
        "import matplotlib.pyplot as plt\n",
        "\n",
        "# The vectors\n",
        "v = np.array([1, 2])\n",
        "w = np.array([4, -6])\n",
        "vPlusW = v+w\n",
        "\n",
        "# now plot all three vectors\n",
        "plt.figure(figsize = (6, 6))\n",
        "\n",
        "a1 = plt.arrow(0, 0, v[0], v[1], head_width = .3, width = .1, color = 'k', length_includes_head = True)\n",
        "a2 = plt.arrow(v[0], v[1], w[0], w[1], head_width = .3, width = .1, color = [.5, .5, .5], length_includes_head = True)\n",
        "a3 = plt.arrow(0 ,0, vPlusW[0], vPlusW[1], head_width = .3, width = .1, color = [.8, .8, .8], length_includes_head = True)\n",
        "\n",
        "#make the plot look a bit nicer\n",
        "plt.grid(linestyle = '--', linewidth = .5)\n",
        "plt.axis('square')\n",
        "plt.axis([-6, 6, -6, 6])\n",
        "plt.legend([a1, a2, a3], ['v', 'w', 'v+w'])\n",
        "plt.title('Vectprs $\\mathbf{v}$, $\\mathbf{w}$ and $\\mathbf{v+w}$')\n",
        "plt.savefig('Figure_01_02a.png', dpi = 300) # write out the fig to a file\n",
        "plt.show()"
      ],
      "metadata": {
        "colab": {
          "base_uri": "https://localhost:8080/",
          "height": 547
        },
        "id": "OZZrPN_69pUt",
        "outputId": "f4e4bc82-e843-40c2-83b5-85ff15b5168e"
      },
      "execution_count": null,
      "outputs": [
        {
          "output_type": "display_data",
          "data": {
            "text/plain": [
              "<Figure size 600x600 with 1 Axes>"
            ],
            "image/png": "[encoded data removed]"
          },
          "metadata": {}
        }
      ]
    },
    {
      "cell_type": "code",
      "source": [
        "# vector difference\n",
        "vMinusW = v-w\n",
        "\n",
        "# now plot all three vectors\n",
        "plt.figure(figsize = (6, 6))\n",
        "\n",
        "a1 = plt.arrow(0, 0, v[0], v[1], head_width = .3, width = .1, color = 'k', length_includes_head = True)\n",
        "a2 = plt.arrow(0, 0, w[0], w[1], head_width = .3, width = .1, color = [.5, .5, .5], length_includes_head = True)\n",
        "a3 = plt.arrow(w[0], w[1], vMinusW[0], vMinusW[1], head_width = .3, width = .1, color = [.8, .8, .8], length_includes_head = True)\n",
        "\n",
        "# make the plot look a bit nicer\n",
        "plt.grid(linestyle = '--', linewidth = .5)\n",
        "plt.axis('square')\n",
        "plt.axis([-6, 6, -6, 6])\n",
        "plt.legend([a1, a2, a3], ['v', 'w', 'v-w'])\n",
        "plt.title('Vectors $\\mathbf{v}$, $\\mathbf{w}$, and $\\mathbf{v-w}$')\n",
        "plt.savefig('Figure_01_02b.png', dpi = 300)\n",
        "plt.show()"
      ],
      "metadata": {
        "colab": {
          "base_uri": "https://localhost:8080/",
          "height": 547
        },
        "id": "y3U8ccIDFxTS",
        "outputId": "daa5f06d-4ae9-4f05-8ead-1534205ee65c"
      },
      "execution_count": null,
      "outputs": [
        {
          "output_type": "display_data",
          "data": {
            "text/plain": [
              "<Figure size 600x600 with 1 Axes>"
            ],
            "image/png": "[encoded data removed]"
          },
          "metadata": {}
        }
      ]
    },
    {
      "cell_type": "markdown",
      "source": [
        "# 비교 정리\n",
        "\n",
        "1. arrow와 quiver의 차이. \\\n",
        "벡터를 시각화 할 때는 quiver가 더 나은 것 같기도 하다.\n",
        "\n",
        "\n",
        "2. vector를 더 깔끔하게 만들고 시각화 할 수 있을 줄 알았는데 수동으로 직접 계산해야 해야함을 알게되었다.\n"
      ],
      "metadata": {
        "id": "NkW0ZQylHOtN"
      }
    },
    {
      "cell_type": "markdown",
      "source": [
        "## 연습 문제 2 : 직접 해보기\n",
        "1. 식 1-7을 코드로 변환, norm 계산 알고리즘 작성.\n",
        "2. 차원이 다른 난수 벡터를 사용하여 np.linalg.norm()과 동일한 결과를 얻는지 확인\n",
        "\n",
        "\n",
        "** NumPy 배열 인덱싱과 수식을 코드로 변환하는 경험을 더 쌓게 된다. 실제로는 np.linalg.norm()을 사용하는 것이 더 간단하다. **"
      ],
      "metadata": {
        "id": "f4ZmKmzcHtDe"
      }
    },
    {
      "cell_type": "code",
      "source": [
        "# 벡터의 제곱합을 위한 함수 생성.\n",
        "def norm(v):\n",
        "\n",
        "  n = 0 # 반복해서 더해지는 값을 초기화할 변수 정의\n",
        "\n",
        "  for i in v:\n",
        "    a = i**2 # 벡터의 원소 제곱\n",
        "    n = n + a # 벡터의 원소 제곱을 n에 반복해서 더하며 초기화\n",
        "\n",
        "  return n**(1/2) # 마지막에 제곱근을 취하여 반환.\n"
      ],
      "metadata": {
        "id": "I1eB-U8WHRRe"
      },
      "execution_count": null,
      "outputs": []
    },
    {
      "cell_type": "code",
      "source": [
        "import numpy as np\n",
        "\n",
        "# 1차원 벡터를 형성하여 완성된 함수 테스트\n",
        "v = np.array([1, 2, 3, 4])\n",
        "myf = norm(v)\n",
        "\n",
        "# np.linalg.norm() 함수를 통해 벡터 변수 v의 노름 계산.\n",
        "numf = np.linalg.norm(v)\n",
        "\n",
        "# 결과 출력\n",
        "print(f'함수를 통한 norm 계산 : {myf}, numpy 함수를 통한 norm 계산 : {numf}')"
      ],
      "metadata": {
        "colab": {
          "base_uri": "https://localhost:8080/"
        },
        "id": "VQ0M4m3Lz6YJ",
        "outputId": "d1dc040d-7e8e-4dec-9da6-8ac374814d0b"
      },
      "execution_count": null,
      "outputs": [
        {
          "output_type": "stream",
          "name": "stdout",
          "text": [
            "함수를 통한 norm 계산 : 5.477225575051661, numpy 함수를 통한 norm 계산 : 5.477225575051661\n"
          ]
        }
      ]
    },
    {
      "cell_type": "markdown",
      "source": [
        "## 연습 문제 2 : 교재 답안"
      ],
      "metadata": {
        "id": "ZqKRP27I1iv8"
      }
    },
    {
      "cell_type": "code",
      "source": [
        "# the funciton\n",
        "def normOfVect(v):\n",
        "  return np.sqrt(np.sum(v**2))\n",
        "\n",
        "# test it a unit-norm vector\n",
        "w = np.array([0, 0, 1])\n",
        "print( normOfVect(w) )\n",
        "\n",
        "# non-unit-norm vector, and confirm using np.linalg.norm\n",
        "w = np.array([1, 2, 3])\n",
        "print( normOfVect(w), np.linalg.norm(w) )"
      ],
      "metadata": {
        "colab": {
          "base_uri": "https://localhost:8080/"
        },
        "id": "v3CTx3Km1xnD",
        "outputId": "27719a72-41fb-4684-c826-fc7bba69ced8"
      },
      "execution_count": null,
      "outputs": [
        {
          "output_type": "stream",
          "name": "stdout",
          "text": [
            "1.0\n",
            "3.7416573867739413 3.7416573867739413\n"
          ]
        }
      ]
    },
    {
      "cell_type": "markdown",
      "source": [
        "# 비교 정리\n",
        "1. 내 풀이의 경우 for 반복문에 v 이터레이터를 이용하여 구현하였다. 함수를 작성할 때 자주 사용하는 방법이지만 교재의 답안이 더 깔끔하다.\n",
        "\n",
        "요약) 이미 존재하는 함수가 있다면 해당 함수를 이용하여 코드를 작성하는 것이 보기 좋은 것 같다."
      ],
      "metadata": {
        "id": "n5gCNPb72gJW"
      }
    },
    {
      "cell_type": "markdown",
      "source": [
        "## 연습 문제 3 : 직접 해보기\n",
        "1. 벡터를 입력으로 받아 동일한 방향의 단위벡터를 출력하는 파이썬 함수 구현.\n",
        "2. 영벡터 실험 해보기.\n"
      ],
      "metadata": {
        "id": "U1rJVWfc3cSr"
      }
    },
    {
      "cell_type": "code",
      "source": [
        "# 벡터 v를 입력 받을 때 단위벡터를 출력하는 함수 만들기.\n",
        "def unit_vec (v):\n",
        "  return 1/np.sqrt(sum(v**2))*v\n",
        "\n",
        "# 벡터를 생성하여 결과 실험.\n",
        "v = np.array([1, 2, 3, 4])\n",
        "u_vec = unit_vec(v)\n",
        "\n",
        "# 영벡터 실험\n",
        "w = np.array([0, 0])\n",
        "z_vec = unit_vec(w)\n",
        "\n",
        "# 결과 출력\n",
        "print(f'단위벡터 출력 결과 : {u_vec}, 영벡터 출력 결과 : {z_vec}')"
      ],
      "metadata": {
        "colab": {
          "base_uri": "https://localhost:8080/"
        },
        "id": "WWOHWVj83Sh6",
        "outputId": "fd7f6b17-f3ca-4195-fa10-27cbff59a449"
      },
      "execution_count": null,
      "outputs": [
        {
          "output_type": "stream",
          "name": "stdout",
          "text": [
            "단위벡터 출력 결과 : [0.18257419 0.36514837 0.54772256 0.73029674], 영벡터 출력 결과 : [nan nan]\n"
          ]
        },
        {
          "output_type": "stream",
          "name": "stderr",
          "text": [
            "<ipython-input-14-c04ca6f47989>:3: RuntimeWarning: divide by zero encountered in scalar divide\n",
            "  return 1/np.sqrt(sum(v**2))*v\n",
            "<ipython-input-14-c04ca6f47989>:3: RuntimeWarning: invalid value encountered in multiply\n",
            "  return 1/np.sqrt(sum(v**2))*v\n"
          ]
        }
      ]
    },
    {
      "cell_type": "markdown",
      "source": [
        "## 연습 문제 3 : 교재 풀이"
      ],
      "metadata": {
        "id": "-vo3EbEK5eSK"
      }
    },
    {
      "cell_type": "code",
      "source": [
        "# define function\n",
        "def createUnitVector(v):\n",
        "  # get vector norm\n",
        "  mu = np.linalg.norm(v)\n",
        "  # return unit vector\n",
        "  return v / mu\n",
        "\n",
        "# test on a unit vector\n",
        "w = np.array([0, 1, 0])\n",
        "print( createUnitVector(w))\n",
        "\n",
        "# test on a non-unit vector that is easy to confirm\n",
        "w = np.array([0, 3, 0])\n",
        "print( createUnitVector(w) )\n",
        "\n",
        "# test on a non-unit vector\n",
        "w = np.array([13, -5, 7])\n",
        "uw = createUnitVector(w)\n",
        "print( uw ), print(' ')\n",
        "# confirm the vectors' norm\n",
        "print( np.linalg.norm(w), np.linalg.norm(uw) )\n",
        "\n",
        "# what happens with the zeros vector?\n",
        "print('\\n\\n\\n') # just some spaces\n",
        "createUnitVector( np.zeros((4, 1)) )"
      ],
      "metadata": {
        "colab": {
          "base_uri": "https://localhost:8080/"
        },
        "id": "jQ-F3qU75cVT",
        "outputId": "73075ca5-e0d0-447f-c86b-3ac53ce4ee5a"
      },
      "execution_count": null,
      "outputs": [
        {
          "output_type": "stream",
          "name": "stdout",
          "text": [
            "[0. 1. 0.]\n",
            "[0. 1. 0.]\n",
            "[ 0.83395039 -0.32075015  0.44905021]\n",
            " \n",
            "15.588457268119896 0.9999999999999999\n",
            "\n",
            "\n",
            "\n",
            "\n"
          ]
        },
        {
          "output_type": "stream",
          "name": "stderr",
          "text": [
            "<ipython-input-16-e86f3966071b>:6: RuntimeWarning: invalid value encountered in divide\n",
            "  return v / mu\n"
          ]
        },
        {
          "output_type": "execute_result",
          "data": {
            "text/plain": [
              "array([[nan],\n",
              "       [nan],\n",
              "       [nan],\n",
              "       [nan]])"
            ]
          },
          "metadata": {},
          "execution_count": 16
        }
      ]
    },
    {
      "cell_type": "markdown",
      "source": [
        "## 비교 정리\n",
        "1. 확실히 아직 numpy의 함수들을 많이 숙지하지 못한 모습이다. numpy의 함수를 사용하지 않고 수식을 만들어 해결하려는 모습이 보인다.\n",
        "\n",
        "2. 이쯤에서 함수를 한 번 정리하자.\n",
        "*   np.linalg.norm() : 주어진 벡터의 norm을 구해준다.\n",
        "*   np.zeros() : 원소를 0으로 채워 만든다. 교재의 코드에서는 튜플을 주어 (np.zeros((4, 1))) 4행 1열의 행방향 열벡터를 만들었다.\n",
        "\n"
      ],
      "metadata": {
        "id": "mC7pwsGW6mqQ"
      }
    },
    {
      "cell_type": "markdown",
      "source": [
        "## 연습 문제 4 : 직접 해보기\n",
        "1. 원하는 크기를 입력 받는다.\n",
        "2. 벡터를 방향은 유지한 채로 입력받은 크기를 갖는 벡터를 반환하는 함수를 만든다."
      ],
      "metadata": {
        "id": "C1Gs_e_s7Njv"
      }
    },
    {
      "cell_type": "code",
      "source": [
        "# Create function to resize a vector to a user-specified size.\n",
        "def resize(v, s):\n",
        "  return (s/np.linalg.norm(v))*v # unit vector is 1. So we can multiply our user-specified number to get user-specified size of vector.\n",
        "\n",
        "# test function\n",
        "v = np.array([1, 2, 3, 4])\n",
        "s = 7\n",
        "result = resize(v, s)\n",
        "print(f'결과는 : {result}, 벡터의 크기는 : ', np.linalg.norm(result))"
      ],
      "metadata": {
        "colab": {
          "base_uri": "https://localhost:8080/"
        },
        "id": "24mP7_Ix7PG8",
        "outputId": "c749dcd5-85c9-463f-b1da-6c1be086950d"
      },
      "execution_count": null,
      "outputs": [
        {
          "output_type": "stream",
          "name": "stdout",
          "text": [
            "결과는 : [1.2780193 2.5560386 3.8340579 5.1120772], 벡터의 크기는 :  7.0\n"
          ]
        }
      ]
    },
    {
      "cell_type": "markdown",
      "source": [
        "## 연습 문제 4 : 교재 풀이"
      ],
      "metadata": {
        "id": "1HbHsmVK-rPJ"
      }
    },
    {
      "cell_type": "code",
      "source": [
        "# define the function\n",
        "def createMagVector(v, mag):\n",
        "  # get vector norm\n",
        "  mu = np.linalg.norm(v)\n",
        "  # return scaled vector\n",
        "  return mag * v / mu\n",
        "\n",
        "# test on a vector that is easy to confirm\n",
        "w = np.array([1, 0, 0])\n",
        "mw = createMagVector(w, 4)\n",
        "print( mw )\n",
        "\n",
        "# confirm the vectors' norms\n",
        "print(np.linalg.norm(w), np.linalg.norm(mw))"
      ],
      "metadata": {
        "colab": {
          "base_uri": "https://localhost:8080/"
        },
        "id": "I32_r2Bx-t7m",
        "outputId": "778aea48-b150-41cd-ec20-2a0ced2cd9cd"
      },
      "execution_count": null,
      "outputs": [
        {
          "output_type": "stream",
          "name": "stdout",
          "text": [
            "[4. 0. 0.]\n",
            "1.0 4.0\n"
          ]
        }
      ]
    },
    {
      "cell_type": "markdown",
      "source": [
        "## 비교 정리\n",
        "오... 세상에 내가 하드코딩을 할 줄은 몰랐는데, 아직 익숙하지 않아서 그런지 하드코딩을 해버렸다.\n",
        "\n",
        "\n",
        "교재의 방식대로 구체적인 함수 계산은 변수로 만드는 소프트 코딩을 항상 염두하며 코딩을 진행하도록 조심해야겠다."
      ],
      "metadata": {
        "id": "MIDuwaLD_Nks"
      }
    },
    {
      "cell_type": "markdown",
      "source": [
        "## 연습 문제 5 : 직접 해보기\n",
        "1. np.transpose(v) 그리고 v.T와 같은 내장 함수를 사용하지 않고 행벡터를 열벡터로 전치하는 for 루프 작성하기.\n",
        "2. 방향을가진 벡터를 생성하고, 인덱싱 하는 법을 배울 수 있다."
      ],
      "metadata": {
        "id": "3Gkae0eL_oDE"
      }
    },
    {
      "cell_type": "code",
      "source": [
        "v = np.array([1, 2, 3, 4])\n",
        "\n",
        "\n",
        "w = np.array([[0]] * len(v))\n",
        "w[0][[0]] = v[0]\n",
        "w[1][[0]] = v[1]\n",
        "\n",
        "print(w)"
      ],
      "metadata": {
        "colab": {
          "base_uri": "https://localhost:8080/"
        },
        "id": "6iDNDzJVOAGN",
        "outputId": "e658d2d7-fff4-4c45-f7e6-21e4ff5723a8"
      },
      "execution_count": null,
      "outputs": [
        {
          "output_type": "stream",
          "name": "stdout",
          "text": [
            "[[1]\n",
            " [2]\n",
            " [0]\n",
            " [0]]\n"
          ]
        }
      ]
    },
    {
      "cell_type": "code",
      "source": [
        "# transpose row vector to column vector function\n",
        "def trans(v):\n",
        "  for idx, i in enumerate(v): # Use the enumerate() function to utilize the index in for loop.\n",
        "    w[idx][[0]] = i\n",
        "\n",
        "  return w\n",
        "\n",
        "# test the function\n",
        "v = np.array([1, 2, 3, 4]) # row vector v\n",
        "result = trans(v)\n",
        "print(f'결과는 : {result}')"
      ],
      "metadata": {
        "colab": {
          "base_uri": "https://localhost:8080/"
        },
        "id": "LBMf8eBy_q45",
        "outputId": "f91f2c46-c2ca-4532-f3bd-5126cc335b69"
      },
      "execution_count": null,
      "outputs": [
        {
          "output_type": "stream",
          "name": "stdout",
          "text": [
            "결과는 : [[1]\n",
            " [2]\n",
            " [3]\n",
            " [4]]\n"
          ]
        }
      ]
    },
    {
      "cell_type": "markdown",
      "source": [
        "교재 풀이 보고 일반화"
      ],
      "metadata": {
        "id": "uRRD28-xeYlV"
      }
    },
    {
      "cell_type": "code",
      "source": [
        "def trans(v):\n",
        "  vt = np.zeros((v.shape[1], 1))\n",
        "\n",
        "  for i in range(v.shape[1]):\n",
        "    vt[i, 0] = v[0, i]\n",
        "\n",
        "  return vt\n",
        "\n",
        "# test the function\n",
        "v = np.array([[1, 2, 3, 4]])\n",
        "result = trans(v)\n",
        "print(f'결과는 \\n{result}')\n"
      ],
      "metadata": {
        "colab": {
          "base_uri": "https://localhost:8080/"
        },
        "id": "UKyY7lFOdQB3",
        "outputId": "243af50a-e368-4506-8598-2eaba3e606ed"
      },
      "execution_count": null,
      "outputs": [
        {
          "output_type": "stream",
          "name": "stdout",
          "text": [
            "결과는 \n",
            "[[1.]\n",
            " [2.]\n",
            " [3.]\n",
            " [4.]]\n"
          ]
        }
      ]
    },
    {
      "cell_type": "markdown",
      "source": [
        "## 연습 문제 5 : 교재 풀이"
      ],
      "metadata": {
        "id": "jf5b6ZvLctis"
      }
    },
    {
      "cell_type": "code",
      "source": [
        "# the row vector to transpose\n",
        "v = np.array([[1, 2, 3]])\n",
        "\n",
        "# initialize the column vector\n",
        "vt = np.zeros((3, 1))\n",
        "\n",
        "# direct implementation of formula using a for loop\n",
        "for i in range(v.shape[1]):\n",
        "  vt[i, 0] = v[0, i]\n",
        "\n",
        "# confirm!\n",
        "print(v), print(' ')\n",
        "print(vt)"
      ],
      "metadata": {
        "colab": {
          "base_uri": "https://localhost:8080/"
        },
        "id": "PnotWoxhMlD-",
        "outputId": "16def5ba-28cc-405c-9bb7-ef94b12c8e32"
      },
      "execution_count": null,
      "outputs": [
        {
          "output_type": "stream",
          "name": "stdout",
          "text": [
            "[[1 2 3]]\n",
            " \n",
            "[[1.]\n",
            " [2.]\n",
            " [3.]]\n"
          ]
        }
      ]
    },
    {
      "cell_type": "markdown",
      "source": [
        "## 비교 정리(정답을 찾지 못햇다)\n",
        "\n",
        "1. np.array를 형성하거나 np.zeros()를 통해 빈 배열을 형성할 때 shape을 활용할 수 있다는 것을 염두해야 겠다.\n",
        "\n",
        "2. 교재의 경우 shape을 통해 for loop에서 index를 사용하였다.\n",
        "\n",
        "3. for loop 문에서 list의 index에 접근하기 위해서는 enumerate() 함수를 사용해야 함을 기억해두면 좋을듯하다.\\\n",
        "https://blog.enterprisedna.co/python-for-loop-index/\n"
      ],
      "metadata": {
        "id": "oWhf7l3UeiGx"
      }
    },
    {
      "cell_type": "markdown",
      "source": [
        "## 연습 문제 6 : 직접해보기\n",
        "1. 벡터 제곱의 norm을 그 벡터 자체 내적으로 계산할 수 있다.\n",
        "2. 식 1-7을 참고."
      ],
      "metadata": {
        "id": "S1N9L15qs1Dn"
      }
    },
    {
      "cell_type": "code",
      "source": [
        "import numpy as np\n",
        "\n",
        "# calculate the vector's squared norm.\n",
        "v = np.array([1, 2, 3, 4])\n",
        "v_norm = np.linalg.norm(v)\n",
        "square_v = v_norm**2\n",
        "\n",
        "# use inner product\n",
        "vi = np.dot(v, v)\n",
        "vi_sum = vi.sum()\n",
        "\n",
        "# print the result\n",
        "print(f'{square_v}, {vi_sum}')"
      ],
      "metadata": {
        "colab": {
          "base_uri": "https://localhost:8080/"
        },
        "id": "p510fcSDs3yK",
        "outputId": "cf816b71-69da-4a64-c3e0-1713f94e5fea"
      },
      "execution_count": null,
      "outputs": [
        {
          "output_type": "stream",
          "name": "stdout",
          "text": [
            "30.0, 30\n"
          ]
        }
      ]
    },
    {
      "cell_type": "markdown",
      "source": [
        "## 연습 문제 6 : 교재 풀이"
      ],
      "metadata": {
        "id": "5I8FHpoXyvoy"
      }
    },
    {
      "cell_type": "code",
      "source": [
        "# some vector\n",
        "c = np.random.randn(5)\n",
        "\n",
        "# squared norm as dot product with itself\n",
        "sqrNrm1 = np.dot(c, c)\n",
        "\n",
        "# squared norm via our function from exercise 2\n",
        "sqrNrm2 = normOfVect(c)**2\n",
        "\n",
        "# print both to confirm they're the same\n",
        "print(sqrNrm1)\n",
        "print(sqrNrm2)"
      ],
      "metadata": {
        "colab": {
          "base_uri": "https://localhost:8080/"
        },
        "id": "wM7YzKZEy6YO",
        "outputId": "95624413-218d-4ecf-d504-3125d37cf8c4"
      },
      "execution_count": null,
      "outputs": [
        {
          "output_type": "stream",
          "name": "stdout",
          "text": [
            "7.708639638862475\n",
            "7.708639638862476\n"
          ]
        }
      ]
    },
    {
      "cell_type": "markdown",
      "source": [
        "## 비교 정리\n",
        "1. np.random.randn() 함수를 활용하여 난수로 만들는 방법을 활용하도록 하자."
      ],
      "metadata": {
        "id": "Z3j7LDOU0ioT"
      }
    },
    {
      "cell_type": "markdown",
      "source": [
        "## 연습 문제 7 : 직접 해보기\n",
        "1. 내적의 교환법칙을 입증하는 코드 작정.\n",
        "2. 벡터 내적의 교환 법칙은 aTb = bTa\n",
        "3. [식 1-9]를 통해 내적이 가능한 이유를 이해해본다."
      ],
      "metadata": {
        "id": "8Qir0H0T0rvL"
      }
    },
    {
      "cell_type": "code",
      "source": [
        "import numpy as np\n",
        "\n",
        "# Create two vector a & b\n",
        "a = np.random.randn(4)\n",
        "b = np.random.randn(4)\n",
        "\n",
        "# Do dot product\n",
        "var1 = np.dot(a, b)\n",
        "var2 = np.dot(b, a)\n",
        "\n",
        "# print the result\n",
        "print(f'{var1}, {var2}')"
      ],
      "metadata": {
        "colab": {
          "base_uri": "https://localhost:8080/"
        },
        "id": "B6ofkvyb0t0w",
        "outputId": "492004c1-5b4a-4080-8955-844a660a8bdf"
      },
      "execution_count": null,
      "outputs": [
        {
          "output_type": "stream",
          "name": "stdout",
          "text": [
            "0.11362606087391561, 0.11362606087391561\n"
          ]
        }
      ]
    },
    {
      "cell_type": "markdown",
      "source": [
        "* 왜 내적의 교환법칙이 성립하는가?\n",
        "\n",
        "> 시그마 내부 원소의 곱 ab는 ba로 곱셈의 교환법칙이 성립한다. 위를 기반으로 내적의 교환법칙이 성립힌다."
      ],
      "metadata": {
        "id": "6J6AQ_Qm2Djk"
      }
    },
    {
      "cell_type": "markdown",
      "source": [
        "## 연습 문제 7 : 교재 풀이"
      ],
      "metadata": {
        "id": "aKxQO2F12zuX"
      }
    },
    {
      "cell_type": "code",
      "source": [
        "# dimentionality\n",
        "n = 11\n",
        "\n",
        "# some random column vectors\n",
        "a = np.random.randn(n ,1)\n",
        "b = np.random.randn(n, 1)\n",
        "\n",
        "# dot products both ways\n",
        "atb = np.sum(a*b)\n",
        "bta = np.sum(b*a)\n",
        "\n",
        "# they're equal if their difference is 0\n",
        "atb - bta"
      ],
      "metadata": {
        "id": "RSAH1Bzg22V5"
      },
      "execution_count": null,
      "outputs": []
    },
    {
      "cell_type": "markdown",
      "source": [
        "## 비교 정리\n",
        "1. 아직도 튜플을 이용한 생성이 어색하다. 인지하도록 노력하자."
      ],
      "metadata": {
        "id": "-j9wMWFj3PG4"
      }
    },
    {
      "cell_type": "markdown",
      "source": [
        "## 연습 문제 8 : 직접 해보기\n",
        "1. [그림 1-6]을 만든다.\n",
        "2. 핵심 원소만 신경 쓰고 결과는 조금 달라도 된다."
      ],
      "metadata": {
        "id": "eXHL46W33ezw"
      }
    },
    {
      "cell_type": "code",
      "source": [
        "import numpy as np\n",
        "import matplotlib.pyplot as plt\n",
        "\n",
        "# Make the vector 'v'\n",
        "a = np.array([2, 6])\n",
        "plt.quiver(0, 0, a[0], a[1], angles = 'xy', scale_units = 'xy', scale = 1, color = 'orange')\n",
        "\n",
        "# Make the vector 'b'\n",
        "b = np.array([3, 2])\n",
        "plt.quiver(0, 0, b[0], b[1], angles = 'xy', scale_units = 'xy', scale = 1, color = 'black')\n",
        "\n",
        "# calculate the beta using orthogonal projection.\n",
        "def orthogonal(v, w):\n",
        "  n = np.dot(v, w) # numerator of orthogonal\n",
        "  d = np.dot(v, v) # denominator of orthogonal\n",
        "\n",
        "  beta = n/d\n",
        "  point = beta*v\n",
        "\n",
        "  return point\n",
        "\n",
        "# calculate the point of vector b projection\n",
        "p = orthogonal(a, b)\n",
        "# plot orthogonal line(--)\n",
        "plt.plot([b[0], p[0]], [b[1], p[1]], linestyle = '--', color = 'black')\n",
        "\n",
        "# point p\n",
        "plt.scatter(p[0], p[1], c = 'white', edgecolor = 'black', s = 200)\n",
        "\n",
        "# plot design\n",
        "plt.xlim(-2, 7)\n",
        "plt.ylim(-2, 7)\n",
        "\n",
        "plt.legend(['a', 'b', 'b-beta*a', 'beta'])\n",
        "\n",
        "plt.axvline(x=0, color = 'black')\n",
        "plt.axhline(y=0, color = 'black')"
      ],
      "metadata": {
        "colab": {
          "base_uri": "https://localhost:8080/",
          "height": 454
        },
        "id": "CVzAPjXS3p0u",
        "outputId": "6e9f4c14-32f7-4c94-8c0e-8f3b4e0d17f9"
      },
      "execution_count": null,
      "outputs": [
        {
          "output_type": "execute_result",
          "data": {
            "text/plain": [
              "<matplotlib.lines.Line2D at 0x7a44ae4941c0>"
            ]
          },
          "metadata": {},
          "execution_count": 81
        },
        {
          "output_type": "display_data",
          "data": {
            "text/plain": [
              "<Figure size 640x480 with 1 Axes>"
            ],
            "image/png": "[encoded data removed]"
          },
          "metadata": {}
        }
      ]
    },
    {
      "cell_type": "markdown",
      "source": [
        "## 연습 문제 8 : 교재 풀이\n",
        "(시각화는 더 잘하지 않았나? 망상해 본다 ㅎㅎㅎㅎ)\n",
        "\n",
        "1. 이전 문제에서와 달리 소프트코딩을 활용하여 함수를 작성한 것이 잘한 점이라 생각한다.\n",
        "\n",
        "2. plot에 text를 넣는 방법을 인지하자."
      ],
      "metadata": {
        "id": "EE-E5ve4E_7P"
      }
    },
    {
      "cell_type": "code",
      "source": [
        "# the vectors a and b\n",
        "a = np.array([1, 2])\n",
        "b = np.array([1.5, .5])\n",
        "\n",
        "# compute beta\n",
        "beta = np.dot(a, b) / np.dot(a,a)\n",
        "\n",
        "# compute the projection vector (not explicitly used in the plot)\n",
        "project = b - beta*a\n",
        "\n",
        "# draw the figure\n",
        "plt.figure(figsize = (4, 4))\n",
        "\n",
        "# vectors\n",
        "plt.arrow(0, 0, a[0], a[1], head_width = .2, width = .02, color = 'k', length_includes_head = True)\n",
        "plt.arrow(0, 0, b[0], b[1], head_width = .2, width = .02, color = 'k', length_includes_head = True)\n",
        "\n",
        "# projection on a\n",
        "plt.plot(beta*a[0], beta*a[1], 'ko', markerfacecolor = 'w', markersize = 13)\n",
        "\n",
        "# make the plot look nicer\n",
        "plt.plot([-1, 2.5], [0, 0], '--', color = 'gray', linewidth = .5)\n",
        "plt.plot([0, 0], [-1, 2.5], '--', color = 'gray', linewidth = .5)\n",
        "\n",
        "# add labels\n",
        "plt.text(a[0] + .1, a[1], 'a', fontweight = 'bold', fontsize = 18)\n",
        "plt.text(b[0], b[1]-.3, 'b', fontweight = 'bold', fontsize = 18)\n",
        "plt.text(beta*a[0] - .35, beta*a[1], r'$beta$', fontweight = 'bold', fontsize = 18)\n",
        "plt.text((b[0]+beta*a[0])/2,(b[1]+beta*a[1])/2+.1,r'(b-$\\beta$a)',fontweight='bold',fontsize=18)\n",
        "\n",
        "# some finishing touches\n",
        "plt.axis('square')\n",
        "plt.axis([-1, 2.5, -1, 2.5])\n",
        "plt.show()"
      ],
      "metadata": {
        "colab": {
          "base_uri": "https://localhost:8080/",
          "height": 374
        },
        "id": "Aot2-HGeFIHS",
        "outputId": "75388062-a61a-4591-f7b8-d5290e0dcd98"
      },
      "execution_count": null,
      "outputs": [
        {
          "output_type": "display_data",
          "data": {
            "text/plain": [
              "<Figure size 400x400 with 1 Axes>"
            ],
            "image/png": "[encoded data removed]"
          },
          "metadata": {}
        }
      ]
    },
    {
      "cell_type": "markdown",
      "source": [
        "## 연습 문제 9 : 직접 풀어보기\n",
        "1. 직교벡터 분해 구현\n",
        "2. 두 난수 벡터 t와 r로  시작\n",
        "3. [그림 1-7]을 재현\n",
        "4. 두 성분의 합이 t 이고, rv와 rh가 직교하는지 확인."
      ],
      "metadata": {
        "id": "8tA5mKeVHTsJ"
      }
    },
    {
      "cell_type": "code",
      "source": [
        "import numpy as np\n",
        "import matplotlib.pyplot as plt\n",
        "\n",
        "# Make random vectors t & r.\n",
        "t = np.random.randn(2)%8+2\n",
        "r = np.random.randn(2)%8+2\n",
        "\n",
        "# Make parallel vector\n",
        "rh = r*(np.dot(t, r)/np.dot(r, r))\n",
        "\n",
        "# Make vertical vector\n",
        "rv = t - rh\n",
        "\n",
        "# draw plot\n",
        "Q1 = plt.quiver(0, 0, t[0], t[1], angles = 'xy', scale_units = 'xy', scale = 1, color = 'black') # t\n",
        "plt.text(t[0] + .1, t[1], 't', fontweight = 'bold', fontsize = 12)\n",
        "plt.quiver(0, 0, r[0], r[1], angles = 'xy', scale_units = 'xy', scale = 1, color = 'orange') # r\n",
        "plt.text(r[0] + .1, r[1], 'r', fontweight = 'bold', fontsize = 12)\n",
        "plt.quiver(0, 0, rh[0], rh[1], angles = 'xy', scale_units = 'xy', scale = 1, color = 'black') # rh\n",
        "plt.text(rh[0] + .1, rh[1], 'rh', fontweight = 'bold', fontsize = 12)\n",
        "plt.quiver(0, 0, rv[0], rv[1], angles = 'xy', scale_units = 'xy', scale = 1, color = 'black') # rv\n",
        "plt.text(rv[0] + .1, rv[1] + .2, 'rv', fontweight = 'bold', fontsize = 12)\n",
        "\n",
        "# dash line\n",
        "plt.plot([rv[0], t[0]], [rv[1], t[1]], linestyle = '--', color = 'gray')\n",
        "plt.plot([rh[0], t[0]], [rh[1], t[1]], linestyle = '--', color = 'gray')\n",
        "plt.legend(['t', 'r', 'rh', 'rv'])\n",
        "\n",
        "plt.xlim(-10, 12)\n",
        "plt.ylim(-10, 12)\n",
        "\n",
        "# compute the sum of rv & rh (It must be same t)\n",
        "s = rv + rh\n",
        "print(f'{s}, {t}')\n",
        "\n",
        "# cimpute the inner product(rv & rh = 0)\n",
        "inp = np.dot(rv, rh).round(2) # There is a floating point issue.\n",
        "print(f'inner product : {inp}')\n",
        "\n"
      ],
      "metadata": {
        "colab": {
          "base_uri": "https://localhost:8080/",
          "height": 467
        },
        "id": "xtuhNBXvJnYZ",
        "outputId": "76fc4087-5b86-481b-e520-b868ec99ce00"
      },
      "execution_count": null,
      "outputs": [
        {
          "output_type": "stream",
          "name": "stdout",
          "text": [
            "[3.14900452 2.74673212], [3.14900452 2.74673212]\n",
            "inner product : 0.0\n"
          ]
        },
        {
          "output_type": "display_data",
          "data": {
            "text/plain": [
              "<Figure size 640x480 with 1 Axes>"
            ],
            "image/png": "[encoded data removed]"
          },
          "metadata": {}
        }
      ]
    },
    {
      "cell_type": "markdown",
      "source": [
        "## 연습 문제 9 : 교재 풀이\n",
        "1. 교재 풀이에서 plt.plot에 label 인자를 주어 legend를 표시한 것이 인상 깊다. 특히 '$\\mathbf'를 통해 기호까지 추가한 것이 깔끔하고 보기 좋다고 생각된다.\n",
        "2. quiver는 벡터 시각화에 좋다 생각하였는데 다음이 불가하다.\n",
        "*   plt.plot과 같이 linestyle이 없다. 대신 linewidth로 화살표의 넓이를 조정한다. 또한 color가 아닌 ec(edgecolor)로 외곽선의 색을 조정한다.\n",
        "*   legend를 설정하기 힘들다. 이를 위해서는 quiverkey()를  활용해야 하는데 쉽지 않다.\n",
        "3. 결론적으로 quiver자체를 사용하는 것은 나쁘지 않으나 필요시 plt.plot을 통한 시각화를 고려해야한다.\n",
        "\n",
        "** quiver 자체는 벡터도 시각화가 가능하지만 서치를 하면 공부해보니 다른 영역에서 유용하게 사용되는 듯하다 **\n",
        "\n"
      ],
      "metadata": {
        "id": "yCF_am-9SFum"
      }
    },
    {
      "cell_type": "code",
      "source": [
        "# generate random R2 vectors (note : no orientation here! we don't need ti for this exercise)\n",
        "t = np.random.randn(2)\n",
        "r = np.random.randn(2)\n",
        "\n",
        "# the decomposition\n",
        "t_para = r * (np.dot(t, r) / np.dot(r, r))\n",
        "t_perp = t - t_para\n",
        "\n",
        "# confirm that the two components sum to the target\n",
        "print(t)\n",
        "print( t_para+t_perp)\n",
        "\n",
        "# confirm orthogonality (dot product must be zero!)\n",
        "print( np.dot(t_para, t_perp) )\n",
        "# Note about this result: Due to numerical precistion errors.\n",
        "# you might get a result of somthing like 10^-17, which can be interpreted as zero.\n",
        "\n",
        "\n",
        "# draw them!\n",
        "plt.figure(figsize = (6,6))\n",
        "\n",
        "# draw main vectors\n",
        "plt.plot([0, t[0]], [0, t[1]], color = 'k', linewidth = 3, label = r'$\\mathbf{t}$')\n",
        "plt.plot([0, r[0]], [0, r[1]], color = [.7, .7, .7], linewidth = 3, label = r'$\\mathbf{r}$')\n",
        "\n",
        "# draw decomposed vector components\n",
        "plt.plot([0, t_para[0]], [0, t_para[1]], 'k--', linewidth = 3, label = r'$\\mathbf{t}_{\\|}$')\n",
        "plt.plot([0, t_perp[0]], [0, t_perp[1]], 'k:', linewidth = 3, label = r'$\\mathbf{t}_{\\perp}$')\n",
        "\n",
        "plt.axis('equal')\n",
        "plt.legend()\n",
        "plt.savefig('Figrue_01_08.png', dpi = 300)\n",
        "plt.show()"
      ],
      "metadata": {
        "colab": {
          "base_uri": "https://localhost:8080/",
          "height": 579
        },
        "id": "Z74eN0nFSKYv",
        "outputId": "034f1818-a285-4c8e-bd7b-8cab1af9347b"
      },
      "execution_count": null,
      "outputs": [
        {
          "output_type": "stream",
          "name": "stdout",
          "text": [
            "[-0.75517802 -0.62672909]\n",
            "[-0.75517802 -0.62672909]\n",
            "-1.474514954580286e-17\n"
          ]
        },
        {
          "output_type": "display_data",
          "data": {
            "text/plain": [
              "<Figure size 600x600 with 1 Axes>"
            ],
            "image/png": "[encoded data removed]"
          },
          "metadata": {}
        }
      ]
    },
    {
      "cell_type": "markdown",
      "source": [
        "\n",
        "## 연습 문제 10 : 직접 해보기\n",
        "1. 버그로 인해 [식 1-13]의 투영 스칼라의 분모가 rTr이 아닌 tTt가 되었다고 가정한다.\n",
        "2. 버그를 구현하여 정확한 코드와 얼마나 차이가 있는지 확인한다.\n",
        "3. 결과가 올바른지 파악하기 위해서 무엇을 해야할지 생각해 본다. 이처럼 코딩에서 알려진 결과를 통해 코드를 점검하는 것을 온전성 검사(sanity-checking)이라 한다."
      ],
      "metadata": {
        "id": "fw139fwNXz9X"
      }
    },
    {
      "cell_type": "code",
      "source": [
        "import numpy as np\n",
        "import matplotlib.pyplot as plt\n",
        "\n",
        "# vector t & r\n",
        "t = np.random.randn(2)\n",
        "r = np.random.randn(2)\n",
        "\n",
        "# furmula 1\n",
        "rh1 = r*(np.dot(t, r)/np.dot(r, r))\n",
        "\n",
        "# formula 2\n",
        "rh2 = r*(np.dot(t, r)/np.dot(t, t))\n",
        "\n",
        "# difference of formula 1 and formula 2\n",
        "result = rh1 - rh2\n",
        "print(f'{result}')\n",
        "\n",
        "# 1) Check if the dot product of two vectors is 0 to verify if they are orthogocal.\n",
        "\n"
      ],
      "metadata": {
        "id": "q8tYs3u9YVIN",
        "colab": {
          "base_uri": "https://localhost:8080/"
        },
        "outputId": "af57c8b3-bc58-46f7-bcdc-4e8639b2fade"
      },
      "execution_count": null,
      "outputs": [
        {
          "output_type": "stream",
          "name": "stdout",
          "text": [
            "[-0.67624905 -0.23406528]\n"
          ]
        }
      ]
    },
    {
      "cell_type": "markdown",
      "source": [
        "연습 문제 10 : 교재 풀이"
      ],
      "metadata": {
        "id": "Q-LEIViEVn5H"
      }
    },
    {
      "cell_type": "code",
      "source": [
        "# Replace t_para in the Exercise 9 with the line below.\n",
        "t_para = r * (np.dot(t, r)/np.dot(t, t))"
      ],
      "metadata": {
        "id": "jZyHb2DHVqBU"
      },
      "execution_count": null,
      "outputs": []
    },
    {
      "cell_type": "code",
      "source": [
        "# generate random R2 vectors (note: no orientation here! we don't need it for this exercise)\n",
        "t = np.random.randn(2)\n",
        "r = np.random.randn(2)\n",
        "\n",
        "# the decomposition\n",
        "t_para = r * (np.dot(t, r)/np.dot(t, t))\n",
        "t_perp = t - t_para\n",
        "\n",
        "# confirm that the two components sum to the target\n",
        "print(t)\n",
        "print( t_para+t_perp )\n",
        "\n",
        "# confirm orthogonality (dot product must be zero!)\n",
        "print( np.dot(t_para,t_perp) )\n",
        "# Note about this result: Due to numerical precision errors,\n",
        "#   you might get a result of something like 10^-17, which can be interpretd as zero.\n",
        "\n",
        "\n",
        "# draw them!\n",
        "plt.figure(figsize=(6,6))\n",
        "\n",
        "# draw main vectors\n",
        "plt.plot([0,t[0]],[0,t[1]],color='k',linewidth=3,label=r'$\\mathbf{t}$')\n",
        "plt.plot([0,r[0]],[0,r[1]],color=[.7,.7,.7],linewidth=3,label=r'$\\mathbf{r}$')\n",
        "\n",
        "# draw decomposed vector components\n",
        "plt.plot([0,t_para[0]],[0,t_para[1]],'k--',linewidth=3,label=r'$\\mathbf{t}_{\\|}$')\n",
        "plt.plot([0,t_perp[0]],[0,t_perp[1]],'k:',linewidth=3,label=r'$\\mathbf{t}_{\\perp}$')\n",
        "\n",
        "plt.axis('equal')\n",
        "plt.legend()\n",
        "plt.savefig('Figure_01_08.png',dpi=300)\n",
        "plt.show()"
      ],
      "metadata": {
        "colab": {
          "base_uri": "https://localhost:8080/",
          "height": 578
        },
        "id": "c5eSW7ZMV-z9",
        "outputId": "e1a159bf-2f22-4594-aa3b-e112a716680f"
      },
      "execution_count": null,
      "outputs": [
        {
          "output_type": "stream",
          "name": "stdout",
          "text": [
            "[0.11483493 1.3361835 ]\n",
            "[0.11483493 1.3361835 ]\n",
            "0.24416959824747925\n"
          ]
        },
        {
          "output_type": "display_data",
          "data": {
            "text/plain": [
              "<Figure size 600x600 with 1 Axes>"
            ],
            "image/png": "[encoded data removed]"
          },
          "metadata": {}
        }
      ]
    }
  ]
}